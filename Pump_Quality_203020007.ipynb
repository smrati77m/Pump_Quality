{
  "nbformat": 4,
  "nbformat_minor": 0,
  "metadata": {
    "colab": {
      "name": "203350018_Data_Cleaning_A2.ipynb",
      "provenance": [],
      "collapsed_sections": [
        "Dq4DPmCslrpi",
        "2SSkHzx4lUJ9",
        "fj31npo9bRQq",
        "MpCx9g_qbWIQ"
      ]
    },
    "kernelspec": {
      "name": "python3",
      "display_name": "Python 3"
    }
  },
  "cells": [
    {
      "cell_type": "markdown",
      "metadata": {
        "id": "gZ3c9_-XN_CI"
      },
      "source": [
        "#Assignment – 2 \n",
        "#EE769 – Introduction to Machine Learning\n",
        "\n",
        "\n",
        "\n"
      ]
    },
    {
      "cell_type": "markdown",
      "metadata": {
        "id": "eDKXdZrkkgT7"
      },
      "source": [
        "Objectives of problem :\n",
        "1. This is a classification problem - as we need to find out the number of pumps that require repairs (functional, but need repairs we can say) and those that are not functional (these may need to be replaced).\n",
        "\n",
        "2. To do this we need to build a classifier by using the available ML frameworks and choose which one has the best performance. As it is a classification problem we would check the  accuracy to see how many are correctly classified. \n",
        "\n",
        "3. After analysis of data, provided in training set, correct hypothesis can be made about which ML framework would be best to use. "
      ]
    },
    {
      "cell_type": "markdown",
      "metadata": {
        "id": "Svr6iAjGcDW5"
      },
      "source": [
        "Loading datasets...."
      ]
    },
    {
      "cell_type": "code",
      "metadata": {
        "id": "F-fXD8NycGqo",
        "colab": {
          "resources": {
            "http://localhost:8080/nbextensions/google.colab/files.js": {
              "data": "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",
              "ok": true,
              "headers": [
                [
                  "content-type",
                  "application/javascript"
                ]
              ],
              "status": 200,
              "status_text": ""
            }
          },
          "base_uri": "https://localhost:8080/",
          "height": 143
        },
        "outputId": "620ccce1-b8d7-4dae-f291-6a7aa32b70e8"
      },
      "source": [
        "from google.colab import files\n",
        "uploaded = files.upload()\n",
        "for fn in uploaded.keys():\n",
        "   print('You uploaded file \"{name}\" with length {length} bytes'. format(name=fn, length=len(uploaded[fn])))"
      ],
      "execution_count": null,
      "outputs": [
        {
          "output_type": "display_data",
          "data": {
            "text/html": [
              "\n",
              "     <input type=\"file\" id=\"files-189855fd-0a3a-43aa-a46c-5970b457316b\" name=\"files[]\" multiple disabled\n",
              "        style=\"border:none\" />\n",
              "     <output id=\"result-189855fd-0a3a-43aa-a46c-5970b457316b\">\n",
              "      Upload widget is only available when the cell has been executed in the\n",
              "      current browser session. Please rerun this cell to enable.\n",
              "      </output>\n",
              "      <script src=\"/nbextensions/google.colab/files.js\"></script> "
            ],
            "text/plain": [
              "<IPython.core.display.HTML object>"
            ]
          },
          "metadata": {}
        },
        {
          "output_type": "stream",
          "name": "stdout",
          "text": [
            "Saving Train.csv to Train.csv\n",
            "Saving test.csv to test.csv\n",
            "You uploaded file \"Train.csv\" with length 15641512 bytes\n",
            "You uploaded file \"test.csv\" with length 5095968 bytes\n"
          ]
        }
      ]
    },
    {
      "cell_type": "markdown",
      "metadata": {
        "id": "47cieC0ydRnZ"
      },
      "source": [
        "Throughout our analysis, we seek to answer three main questions:\n",
        "\n",
        "1. How does well functionality vary across Tanzania's geographical regions?\n",
        "2. What features are important in determining whether a well is functional, in need of repair, or completely nonfunctional?\n",
        "3. What is the best model to predict the status of a well?"
      ]
    },
    {
      "cell_type": "markdown",
      "metadata": {
        "id": "CHBTkMLYlNPX"
      },
      "source": [
        "#Data exploration and visualization with insightful commentary to determine potentially useful variables."
      ]
    },
    {
      "cell_type": "markdown",
      "metadata": {
        "id": "iPJiJsQ65uIU"
      },
      "source": [
        "Opening csv and checking format and structure of training data provided. Here we will choose what variables or features we can use for the prediction - what the output should be, what needs to be cleaned and if there are missing values, NaN values how we can replace them with sensible values to help in the analysis.\n",
        "\n",
        "We will not be looking at the test data at all. Whatever changes we apply to the training dataset we apply to the test dataset at the sametime. These steps were arrived at after some trial and error"
      ]
    },
    {
      "cell_type": "code",
      "metadata": {
        "id": "H5rOHmbU3nNO"
      },
      "source": [
        "import pandas as pd \n",
        "import numpy as np\n",
        "import matplotlib.pyplot as plt\n",
        "import seaborn as sns\n",
        "from sklearn.preprocessing import MinMaxScaler"
      ],
      "execution_count": null,
      "outputs": []
    },
    {
      "cell_type": "code",
      "metadata": {
        "colab": {
          "base_uri": "https://localhost:8080/",
          "height": 808
        },
        "id": "We-riLV6vRXu",
        "outputId": "29ae33c6-71dd-4afb-9d65-181be950866c"
      },
      "source": [
        "train_df = pd.read_csv('Train.csv')\n",
        "display(train_df)"
      ],
      "execution_count": null,
      "outputs": [
        {
          "output_type": "display_data",
          "data": {
            "text/html": [
              "<div>\n",
              "<style scoped>\n",
              "    .dataframe tbody tr th:only-of-type {\n",
              "        vertical-align: middle;\n",
              "    }\n",
              "\n",
              "    .dataframe tbody tr th {\n",
              "        vertical-align: top;\n",
              "    }\n",
              "\n",
              "    .dataframe thead th {\n",
              "        text-align: right;\n",
              "    }\n",
              "</style>\n",
              "<table border=\"1\" class=\"dataframe\">\n",
              "  <thead>\n",
              "    <tr style=\"text-align: right;\">\n",
              "      <th></th>\n",
              "      <th>id</th>\n",
              "      <th>amount_tsh</th>\n",
              "      <th>date_recorded</th>\n",
              "      <th>funder</th>\n",
              "      <th>gps_height</th>\n",
              "      <th>installer</th>\n",
              "      <th>longitude</th>\n",
              "      <th>latitude</th>\n",
              "      <th>wpt_name</th>\n",
              "      <th>num_private</th>\n",
              "      <th>basin</th>\n",
              "      <th>subvillage</th>\n",
              "      <th>region</th>\n",
              "      <th>region_code</th>\n",
              "      <th>district_code</th>\n",
              "      <th>lga</th>\n",
              "      <th>ward</th>\n",
              "      <th>population</th>\n",
              "      <th>public_meeting</th>\n",
              "      <th>recorded_by</th>\n",
              "      <th>scheme_management</th>\n",
              "      <th>scheme_name</th>\n",
              "      <th>permit</th>\n",
              "      <th>construction_year</th>\n",
              "      <th>extraction_type</th>\n",
              "      <th>extraction_type_group</th>\n",
              "      <th>extraction_type_class</th>\n",
              "      <th>management</th>\n",
              "      <th>management_group</th>\n",
              "      <th>payment</th>\n",
              "      <th>payment_type</th>\n",
              "      <th>water_quality</th>\n",
              "      <th>quality_group</th>\n",
              "      <th>quantity</th>\n",
              "      <th>quantity_group</th>\n",
              "      <th>source</th>\n",
              "      <th>source_type</th>\n",
              "      <th>source_class</th>\n",
              "      <th>waterpoint_type</th>\n",
              "      <th>waterpoint_type_group</th>\n",
              "      <th>status_group</th>\n",
              "    </tr>\n",
              "  </thead>\n",
              "  <tbody>\n",
              "    <tr>\n",
              "      <th>0</th>\n",
              "      <td>7411</td>\n",
              "      <td>7.0</td>\n",
              "      <td>2013-03-20</td>\n",
              "      <td>Germany Republi</td>\n",
              "      <td>1203</td>\n",
              "      <td>CES</td>\n",
              "      <td>37.228664</td>\n",
              "      <td>-3.256505</td>\n",
              "      <td>Kwa Abdalla</td>\n",
              "      <td>0</td>\n",
              "      <td>Pangani</td>\n",
              "      <td>Mafurini</td>\n",
              "      <td>Kilimanjaro</td>\n",
              "      <td>3</td>\n",
              "      <td>5</td>\n",
              "      <td>Hai</td>\n",
              "      <td>Machame Kaskazini</td>\n",
              "      <td>90</td>\n",
              "      <td>True</td>\n",
              "      <td>GeoData Consultants Ltd</td>\n",
              "      <td>Water Board</td>\n",
              "      <td>Machame water supply</td>\n",
              "      <td>True</td>\n",
              "      <td>2008</td>\n",
              "      <td>gravity</td>\n",
              "      <td>gravity</td>\n",
              "      <td>gravity</td>\n",
              "      <td>water board</td>\n",
              "      <td>user-group</td>\n",
              "      <td>pay per bucket</td>\n",
              "      <td>per bucket</td>\n",
              "      <td>soft</td>\n",
              "      <td>good</td>\n",
              "      <td>enough</td>\n",
              "      <td>enough</td>\n",
              "      <td>spring</td>\n",
              "      <td>spring</td>\n",
              "      <td>groundwater</td>\n",
              "      <td>communal standpipe</td>\n",
              "      <td>communal standpipe</td>\n",
              "      <td>functional</td>\n",
              "    </tr>\n",
              "    <tr>\n",
              "      <th>1</th>\n",
              "      <td>18014</td>\n",
              "      <td>0.0</td>\n",
              "      <td>2011-02-21</td>\n",
              "      <td>Cdtf</td>\n",
              "      <td>1409</td>\n",
              "      <td>CDTF</td>\n",
              "      <td>34.615481</td>\n",
              "      <td>-9.972601</td>\n",
              "      <td>none</td>\n",
              "      <td>0</td>\n",
              "      <td>Lake Nyasa</td>\n",
              "      <td>Ituni</td>\n",
              "      <td>Iringa</td>\n",
              "      <td>11</td>\n",
              "      <td>5</td>\n",
              "      <td>Ludewa</td>\n",
              "      <td>Luana</td>\n",
              "      <td>70</td>\n",
              "      <td>False</td>\n",
              "      <td>GeoData Consultants Ltd</td>\n",
              "      <td>Private operator</td>\n",
              "      <td>Mgowel</td>\n",
              "      <td>False</td>\n",
              "      <td>1984</td>\n",
              "      <td>gravity</td>\n",
              "      <td>gravity</td>\n",
              "      <td>gravity</td>\n",
              "      <td>private operator</td>\n",
              "      <td>commercial</td>\n",
              "      <td>never pay</td>\n",
              "      <td>never pay</td>\n",
              "      <td>soft</td>\n",
              "      <td>good</td>\n",
              "      <td>enough</td>\n",
              "      <td>enough</td>\n",
              "      <td>spring</td>\n",
              "      <td>spring</td>\n",
              "      <td>groundwater</td>\n",
              "      <td>communal standpipe</td>\n",
              "      <td>communal standpipe</td>\n",
              "      <td>functional</td>\n",
              "    </tr>\n",
              "    <tr>\n",
              "      <th>2</th>\n",
              "      <td>26103</td>\n",
              "      <td>0.0</td>\n",
              "      <td>2013-01-04</td>\n",
              "      <td>Government Of Tanzania</td>\n",
              "      <td>1572</td>\n",
              "      <td>DWE</td>\n",
              "      <td>36.658778</td>\n",
              "      <td>-3.321529</td>\n",
              "      <td>Kwa Loishiye</td>\n",
              "      <td>0</td>\n",
              "      <td>Pangani</td>\n",
              "      <td>Melebuki</td>\n",
              "      <td>Arusha</td>\n",
              "      <td>2</td>\n",
              "      <td>2</td>\n",
              "      <td>Arusha Rural</td>\n",
              "      <td>Kimnyaki</td>\n",
              "      <td>150</td>\n",
              "      <td>True</td>\n",
              "      <td>GeoData Consultants Ltd</td>\n",
              "      <td>VWC</td>\n",
              "      <td>Saitero olosaita pipe line</td>\n",
              "      <td>True</td>\n",
              "      <td>2002</td>\n",
              "      <td>gravity</td>\n",
              "      <td>gravity</td>\n",
              "      <td>gravity</td>\n",
              "      <td>vwc</td>\n",
              "      <td>user-group</td>\n",
              "      <td>never pay</td>\n",
              "      <td>never pay</td>\n",
              "      <td>soft</td>\n",
              "      <td>good</td>\n",
              "      <td>insufficient</td>\n",
              "      <td>insufficient</td>\n",
              "      <td>spring</td>\n",
              "      <td>spring</td>\n",
              "      <td>groundwater</td>\n",
              "      <td>communal standpipe</td>\n",
              "      <td>communal standpipe</td>\n",
              "      <td>non functional</td>\n",
              "    </tr>\n",
              "    <tr>\n",
              "      <th>3</th>\n",
              "      <td>31140</td>\n",
              "      <td>0.0</td>\n",
              "      <td>2011-04-03</td>\n",
              "      <td>District Council</td>\n",
              "      <td>0</td>\n",
              "      <td>District Council</td>\n",
              "      <td>33.628025</td>\n",
              "      <td>-8.860795</td>\n",
              "      <td>Mwanzechele</td>\n",
              "      <td>0</td>\n",
              "      <td>Rufiji</td>\n",
              "      <td>Darajani</td>\n",
              "      <td>Mbeya</td>\n",
              "      <td>12</td>\n",
              "      <td>2</td>\n",
              "      <td>Mbeya Rural</td>\n",
              "      <td>Inyala</td>\n",
              "      <td>0</td>\n",
              "      <td>True</td>\n",
              "      <td>GeoData Consultants Ltd</td>\n",
              "      <td>VWC</td>\n",
              "      <td>NaN</td>\n",
              "      <td>True</td>\n",
              "      <td>0</td>\n",
              "      <td>gravity</td>\n",
              "      <td>gravity</td>\n",
              "      <td>gravity</td>\n",
              "      <td>wug</td>\n",
              "      <td>user-group</td>\n",
              "      <td>pay annually</td>\n",
              "      <td>annually</td>\n",
              "      <td>soft</td>\n",
              "      <td>good</td>\n",
              "      <td>insufficient</td>\n",
              "      <td>insufficient</td>\n",
              "      <td>river</td>\n",
              "      <td>river/lake</td>\n",
              "      <td>surface</td>\n",
              "      <td>communal standpipe</td>\n",
              "      <td>communal standpipe</td>\n",
              "      <td>functional</td>\n",
              "    </tr>\n",
              "    <tr>\n",
              "      <th>4</th>\n",
              "      <td>12286</td>\n",
              "      <td>300.0</td>\n",
              "      <td>2013-03-08</td>\n",
              "      <td>District Council</td>\n",
              "      <td>1283</td>\n",
              "      <td>District Council</td>\n",
              "      <td>37.655509</td>\n",
              "      <td>-3.669777</td>\n",
              "      <td>Kwa Kidaya</td>\n",
              "      <td>0</td>\n",
              "      <td>Pangani</td>\n",
              "      <td>Mwira A</td>\n",
              "      <td>Kilimanjaro</td>\n",
              "      <td>3</td>\n",
              "      <td>2</td>\n",
              "      <td>Mwanga</td>\n",
              "      <td>Shinghatini</td>\n",
              "      <td>34</td>\n",
              "      <td>True</td>\n",
              "      <td>GeoData Consultants Ltd</td>\n",
              "      <td>VWC</td>\n",
              "      <td>Churu water supply</td>\n",
              "      <td>False</td>\n",
              "      <td>2007</td>\n",
              "      <td>gravity</td>\n",
              "      <td>gravity</td>\n",
              "      <td>gravity</td>\n",
              "      <td>vwc</td>\n",
              "      <td>user-group</td>\n",
              "      <td>pay monthly</td>\n",
              "      <td>monthly</td>\n",
              "      <td>soft</td>\n",
              "      <td>good</td>\n",
              "      <td>insufficient</td>\n",
              "      <td>insufficient</td>\n",
              "      <td>spring</td>\n",
              "      <td>spring</td>\n",
              "      <td>groundwater</td>\n",
              "      <td>communal standpipe</td>\n",
              "      <td>communal standpipe</td>\n",
              "      <td>functional</td>\n",
              "    </tr>\n",
              "    <tr>\n",
              "      <th>...</th>\n",
              "      <td>...</td>\n",
              "      <td>...</td>\n",
              "      <td>...</td>\n",
              "      <td>...</td>\n",
              "      <td>...</td>\n",
              "      <td>...</td>\n",
              "      <td>...</td>\n",
              "      <td>...</td>\n",
              "      <td>...</td>\n",
              "      <td>...</td>\n",
              "      <td>...</td>\n",
              "      <td>...</td>\n",
              "      <td>...</td>\n",
              "      <td>...</td>\n",
              "      <td>...</td>\n",
              "      <td>...</td>\n",
              "      <td>...</td>\n",
              "      <td>...</td>\n",
              "      <td>...</td>\n",
              "      <td>...</td>\n",
              "      <td>...</td>\n",
              "      <td>...</td>\n",
              "      <td>...</td>\n",
              "      <td>...</td>\n",
              "      <td>...</td>\n",
              "      <td>...</td>\n",
              "      <td>...</td>\n",
              "      <td>...</td>\n",
              "      <td>...</td>\n",
              "      <td>...</td>\n",
              "      <td>...</td>\n",
              "      <td>...</td>\n",
              "      <td>...</td>\n",
              "      <td>...</td>\n",
              "      <td>...</td>\n",
              "      <td>...</td>\n",
              "      <td>...</td>\n",
              "      <td>...</td>\n",
              "      <td>...</td>\n",
              "      <td>...</td>\n",
              "      <td>...</td>\n",
              "    </tr>\n",
              "    <tr>\n",
              "      <th>44545</th>\n",
              "      <td>43878</td>\n",
              "      <td>0.0</td>\n",
              "      <td>2013-01-23</td>\n",
              "      <td>World Vision</td>\n",
              "      <td>0</td>\n",
              "      <td>TAWASA</td>\n",
              "      <td>32.383715</td>\n",
              "      <td>-3.457624</td>\n",
              "      <td>Imalabuluhi</td>\n",
              "      <td>0</td>\n",
              "      <td>Lake Tanganyika</td>\n",
              "      <td>Bukenge</td>\n",
              "      <td>Shinyanga</td>\n",
              "      <td>17</td>\n",
              "      <td>3</td>\n",
              "      <td>Kahama</td>\n",
              "      <td>Segese</td>\n",
              "      <td>0</td>\n",
              "      <td>True</td>\n",
              "      <td>GeoData Consultants Ltd</td>\n",
              "      <td>NaN</td>\n",
              "      <td>NaN</td>\n",
              "      <td>True</td>\n",
              "      <td>0</td>\n",
              "      <td>nira/tanira</td>\n",
              "      <td>nira/tanira</td>\n",
              "      <td>handpump</td>\n",
              "      <td>wug</td>\n",
              "      <td>user-group</td>\n",
              "      <td>unknown</td>\n",
              "      <td>unknown</td>\n",
              "      <td>milky</td>\n",
              "      <td>milky</td>\n",
              "      <td>enough</td>\n",
              "      <td>enough</td>\n",
              "      <td>shallow well</td>\n",
              "      <td>shallow well</td>\n",
              "      <td>groundwater</td>\n",
              "      <td>hand pump</td>\n",
              "      <td>hand pump</td>\n",
              "      <td>functional</td>\n",
              "    </tr>\n",
              "    <tr>\n",
              "      <th>44546</th>\n",
              "      <td>50718</td>\n",
              "      <td>0.0</td>\n",
              "      <td>2011-07-25</td>\n",
              "      <td>Ded</td>\n",
              "      <td>0</td>\n",
              "      <td>DED</td>\n",
              "      <td>31.615509</td>\n",
              "      <td>-2.738682</td>\n",
              "      <td>Ilyamchele Center</td>\n",
              "      <td>0</td>\n",
              "      <td>Lake Victoria</td>\n",
              "      <td>Ilyamchele Center</td>\n",
              "      <td>Kagera</td>\n",
              "      <td>18</td>\n",
              "      <td>8</td>\n",
              "      <td>Chato</td>\n",
              "      <td>Katende</td>\n",
              "      <td>0</td>\n",
              "      <td>True</td>\n",
              "      <td>GeoData Consultants Ltd</td>\n",
              "      <td>WUA</td>\n",
              "      <td>NaN</td>\n",
              "      <td>True</td>\n",
              "      <td>0</td>\n",
              "      <td>afridev</td>\n",
              "      <td>afridev</td>\n",
              "      <td>handpump</td>\n",
              "      <td>wua</td>\n",
              "      <td>user-group</td>\n",
              "      <td>pay monthly</td>\n",
              "      <td>monthly</td>\n",
              "      <td>soft</td>\n",
              "      <td>good</td>\n",
              "      <td>enough</td>\n",
              "      <td>enough</td>\n",
              "      <td>hand dtw</td>\n",
              "      <td>borehole</td>\n",
              "      <td>groundwater</td>\n",
              "      <td>hand pump</td>\n",
              "      <td>hand pump</td>\n",
              "      <td>non functional</td>\n",
              "    </tr>\n",
              "    <tr>\n",
              "      <th>44547</th>\n",
              "      <td>67177</td>\n",
              "      <td>0.0</td>\n",
              "      <td>2013-02-23</td>\n",
              "      <td>Government Of Tanzania</td>\n",
              "      <td>969</td>\n",
              "      <td>Government</td>\n",
              "      <td>35.134412</td>\n",
              "      <td>-10.676062</td>\n",
              "      <td>Kwa Mzee Maondo</td>\n",
              "      <td>0</td>\n",
              "      <td>Ruvuma / Southern Coast</td>\n",
              "      <td>Masango</td>\n",
              "      <td>Ruvuma</td>\n",
              "      <td>10</td>\n",
              "      <td>3</td>\n",
              "      <td>Mbinga</td>\n",
              "      <td>Kigonsera</td>\n",
              "      <td>60</td>\n",
              "      <td>NaN</td>\n",
              "      <td>GeoData Consultants Ltd</td>\n",
              "      <td>VWC</td>\n",
              "      <td>Government</td>\n",
              "      <td>NaN</td>\n",
              "      <td>1977</td>\n",
              "      <td>gravity</td>\n",
              "      <td>gravity</td>\n",
              "      <td>gravity</td>\n",
              "      <td>vwc</td>\n",
              "      <td>user-group</td>\n",
              "      <td>unknown</td>\n",
              "      <td>unknown</td>\n",
              "      <td>soft</td>\n",
              "      <td>good</td>\n",
              "      <td>seasonal</td>\n",
              "      <td>seasonal</td>\n",
              "      <td>spring</td>\n",
              "      <td>spring</td>\n",
              "      <td>groundwater</td>\n",
              "      <td>communal standpipe</td>\n",
              "      <td>communal standpipe</td>\n",
              "      <td>functional</td>\n",
              "    </tr>\n",
              "    <tr>\n",
              "      <th>44548</th>\n",
              "      <td>2744</td>\n",
              "      <td>200.0</td>\n",
              "      <td>2013-03-26</td>\n",
              "      <td>Adra</td>\n",
              "      <td>1269</td>\n",
              "      <td>ADRA/Government</td>\n",
              "      <td>37.886287</td>\n",
              "      <td>-4.390882</td>\n",
              "      <td>Miembeni</td>\n",
              "      <td>0</td>\n",
              "      <td>Pangani</td>\n",
              "      <td>Mng'Ende</td>\n",
              "      <td>Kilimanjaro</td>\n",
              "      <td>3</td>\n",
              "      <td>3</td>\n",
              "      <td>Same</td>\n",
              "      <td>Suji</td>\n",
              "      <td>80</td>\n",
              "      <td>True</td>\n",
              "      <td>GeoData Consultants Ltd</td>\n",
              "      <td>Water authority</td>\n",
              "      <td>Kiumba water supply</td>\n",
              "      <td>True</td>\n",
              "      <td>2011</td>\n",
              "      <td>gravity</td>\n",
              "      <td>gravity</td>\n",
              "      <td>gravity</td>\n",
              "      <td>vwc</td>\n",
              "      <td>user-group</td>\n",
              "      <td>pay monthly</td>\n",
              "      <td>monthly</td>\n",
              "      <td>soft</td>\n",
              "      <td>good</td>\n",
              "      <td>insufficient</td>\n",
              "      <td>insufficient</td>\n",
              "      <td>spring</td>\n",
              "      <td>spring</td>\n",
              "      <td>groundwater</td>\n",
              "      <td>communal standpipe</td>\n",
              "      <td>communal standpipe</td>\n",
              "      <td>functional</td>\n",
              "    </tr>\n",
              "    <tr>\n",
              "      <th>44549</th>\n",
              "      <td>10262</td>\n",
              "      <td>0.0</td>\n",
              "      <td>2013-01-26</td>\n",
              "      <td>World Vision</td>\n",
              "      <td>0</td>\n",
              "      <td>Consulting Engineer</td>\n",
              "      <td>32.976560</td>\n",
              "      <td>-4.262149</td>\n",
              "      <td>Itunda A Mkwajuni</td>\n",
              "      <td>0</td>\n",
              "      <td>Lake Tanganyika</td>\n",
              "      <td>Itunda A</td>\n",
              "      <td>Tabora</td>\n",
              "      <td>14</td>\n",
              "      <td>1</td>\n",
              "      <td>Nzega</td>\n",
              "      <td>Karitu</td>\n",
              "      <td>0</td>\n",
              "      <td>True</td>\n",
              "      <td>GeoData Consultants Ltd</td>\n",
              "      <td>VWC</td>\n",
              "      <td>NaN</td>\n",
              "      <td>False</td>\n",
              "      <td>0</td>\n",
              "      <td>nira/tanira</td>\n",
              "      <td>nira/tanira</td>\n",
              "      <td>handpump</td>\n",
              "      <td>vwc</td>\n",
              "      <td>user-group</td>\n",
              "      <td>pay when scheme fails</td>\n",
              "      <td>on failure</td>\n",
              "      <td>soft</td>\n",
              "      <td>good</td>\n",
              "      <td>enough</td>\n",
              "      <td>enough</td>\n",
              "      <td>shallow well</td>\n",
              "      <td>shallow well</td>\n",
              "      <td>groundwater</td>\n",
              "      <td>hand pump</td>\n",
              "      <td>hand pump</td>\n",
              "      <td>functional</td>\n",
              "    </tr>\n",
              "  </tbody>\n",
              "</table>\n",
              "<p>44550 rows × 41 columns</p>\n",
              "</div>"
            ],
            "text/plain": [
              "          id  amount_tsh  ... waterpoint_type_group    status_group\n",
              "0       7411         7.0  ...    communal standpipe      functional\n",
              "1      18014         0.0  ...    communal standpipe      functional\n",
              "2      26103         0.0  ...    communal standpipe  non functional\n",
              "3      31140         0.0  ...    communal standpipe      functional\n",
              "4      12286       300.0  ...    communal standpipe      functional\n",
              "...      ...         ...  ...                   ...             ...\n",
              "44545  43878         0.0  ...             hand pump      functional\n",
              "44546  50718         0.0  ...             hand pump  non functional\n",
              "44547  67177         0.0  ...    communal standpipe      functional\n",
              "44548   2744       200.0  ...    communal standpipe      functional\n",
              "44549  10262         0.0  ...             hand pump      functional\n",
              "\n",
              "[44550 rows x 41 columns]"
            ]
          },
          "metadata": {}
        }
      ]
    },
    {
      "cell_type": "code",
      "metadata": {
        "colab": {
          "base_uri": "https://localhost:8080/",
          "height": 808
        },
        "id": "b_JxnKiTkDfi",
        "outputId": "efd02575-0bc4-4001-9ee6-96fa7a5c68fd"
      },
      "source": [
        "test_df = pd.read_csv('test.csv')\n",
        "display(test_df)"
      ],
      "execution_count": null,
      "outputs": [
        {
          "output_type": "display_data",
          "data": {
            "text/html": [
              "<div>\n",
              "<style scoped>\n",
              "    .dataframe tbody tr th:only-of-type {\n",
              "        vertical-align: middle;\n",
              "    }\n",
              "\n",
              "    .dataframe tbody tr th {\n",
              "        vertical-align: top;\n",
              "    }\n",
              "\n",
              "    .dataframe thead th {\n",
              "        text-align: right;\n",
              "    }\n",
              "</style>\n",
              "<table border=\"1\" class=\"dataframe\">\n",
              "  <thead>\n",
              "    <tr style=\"text-align: right;\">\n",
              "      <th></th>\n",
              "      <th>Unnamed: 0</th>\n",
              "      <th>id</th>\n",
              "      <th>amount_tsh</th>\n",
              "      <th>date_recorded</th>\n",
              "      <th>funder</th>\n",
              "      <th>gps_height</th>\n",
              "      <th>installer</th>\n",
              "      <th>longitude</th>\n",
              "      <th>latitude</th>\n",
              "      <th>wpt_name</th>\n",
              "      <th>num_private</th>\n",
              "      <th>basin</th>\n",
              "      <th>subvillage</th>\n",
              "      <th>region</th>\n",
              "      <th>region_code</th>\n",
              "      <th>district_code</th>\n",
              "      <th>lga</th>\n",
              "      <th>ward</th>\n",
              "      <th>population</th>\n",
              "      <th>public_meeting</th>\n",
              "      <th>recorded_by</th>\n",
              "      <th>scheme_management</th>\n",
              "      <th>scheme_name</th>\n",
              "      <th>permit</th>\n",
              "      <th>construction_year</th>\n",
              "      <th>extraction_type</th>\n",
              "      <th>extraction_type_group</th>\n",
              "      <th>extraction_type_class</th>\n",
              "      <th>management</th>\n",
              "      <th>management_group</th>\n",
              "      <th>payment</th>\n",
              "      <th>payment_type</th>\n",
              "      <th>water_quality</th>\n",
              "      <th>quality_group</th>\n",
              "      <th>quantity</th>\n",
              "      <th>quantity_group</th>\n",
              "      <th>source</th>\n",
              "      <th>source_type</th>\n",
              "      <th>source_class</th>\n",
              "      <th>waterpoint_type</th>\n",
              "      <th>waterpoint_type_group</th>\n",
              "    </tr>\n",
              "  </thead>\n",
              "  <tbody>\n",
              "    <tr>\n",
              "      <th>0</th>\n",
              "      <td>0</td>\n",
              "      <td>21215</td>\n",
              "      <td>0.0</td>\n",
              "      <td>2011-02-25</td>\n",
              "      <td>Kuamu</td>\n",
              "      <td>1676</td>\n",
              "      <td>Kuamu</td>\n",
              "      <td>35.247289</td>\n",
              "      <td>-8.113243</td>\n",
              "      <td>none</td>\n",
              "      <td>0</td>\n",
              "      <td>Rufiji</td>\n",
              "      <td>Mahanzi</td>\n",
              "      <td>Iringa</td>\n",
              "      <td>11</td>\n",
              "      <td>1</td>\n",
              "      <td>Iringa Rural</td>\n",
              "      <td>Wasa</td>\n",
              "      <td>769</td>\n",
              "      <td>True</td>\n",
              "      <td>GeoData Consultants Ltd</td>\n",
              "      <td>VWC</td>\n",
              "      <td>Wasa</td>\n",
              "      <td>True</td>\n",
              "      <td>2004</td>\n",
              "      <td>gravity</td>\n",
              "      <td>gravity</td>\n",
              "      <td>gravity</td>\n",
              "      <td>vwc</td>\n",
              "      <td>user-group</td>\n",
              "      <td>never pay</td>\n",
              "      <td>never pay</td>\n",
              "      <td>soft</td>\n",
              "      <td>good</td>\n",
              "      <td>dry</td>\n",
              "      <td>dry</td>\n",
              "      <td>spring</td>\n",
              "      <td>spring</td>\n",
              "      <td>groundwater</td>\n",
              "      <td>communal standpipe</td>\n",
              "      <td>communal standpipe</td>\n",
              "    </tr>\n",
              "    <tr>\n",
              "      <th>1</th>\n",
              "      <td>1</td>\n",
              "      <td>25893</td>\n",
              "      <td>0.0</td>\n",
              "      <td>2011-04-17</td>\n",
              "      <td>Kirde</td>\n",
              "      <td>0</td>\n",
              "      <td>DWE</td>\n",
              "      <td>36.163435</td>\n",
              "      <td>-5.218454</td>\n",
              "      <td>Zahanati</td>\n",
              "      <td>0</td>\n",
              "      <td>Wami / Ruvu</td>\n",
              "      <td>Uzunguni</td>\n",
              "      <td>Dodoma</td>\n",
              "      <td>1</td>\n",
              "      <td>1</td>\n",
              "      <td>Kondoa</td>\n",
              "      <td>Chandama</td>\n",
              "      <td>0</td>\n",
              "      <td>True</td>\n",
              "      <td>GeoData Consultants Ltd</td>\n",
              "      <td>VWC</td>\n",
              "      <td>Soya</td>\n",
              "      <td>False</td>\n",
              "      <td>0</td>\n",
              "      <td>mono</td>\n",
              "      <td>mono</td>\n",
              "      <td>motorpump</td>\n",
              "      <td>vwc</td>\n",
              "      <td>user-group</td>\n",
              "      <td>never pay</td>\n",
              "      <td>never pay</td>\n",
              "      <td>soft</td>\n",
              "      <td>good</td>\n",
              "      <td>enough</td>\n",
              "      <td>enough</td>\n",
              "      <td>machine dbh</td>\n",
              "      <td>borehole</td>\n",
              "      <td>groundwater</td>\n",
              "      <td>communal standpipe</td>\n",
              "      <td>communal standpipe</td>\n",
              "    </tr>\n",
              "    <tr>\n",
              "      <th>2</th>\n",
              "      <td>2</td>\n",
              "      <td>15713</td>\n",
              "      <td>0.0</td>\n",
              "      <td>2011-03-27</td>\n",
              "      <td>Water</td>\n",
              "      <td>0</td>\n",
              "      <td>Gover</td>\n",
              "      <td>36.363337</td>\n",
              "      <td>-7.297600</td>\n",
              "      <td>Uganda</td>\n",
              "      <td>0</td>\n",
              "      <td>Rufiji</td>\n",
              "      <td>Uganda</td>\n",
              "      <td>Dodoma</td>\n",
              "      <td>1</td>\n",
              "      <td>1</td>\n",
              "      <td>Mpwapwa</td>\n",
              "      <td>Ipera</td>\n",
              "      <td>0</td>\n",
              "      <td>True</td>\n",
              "      <td>GeoData Consultants Ltd</td>\n",
              "      <td>VWC</td>\n",
              "      <td>NaN</td>\n",
              "      <td>True</td>\n",
              "      <td>0</td>\n",
              "      <td>nira/tanira</td>\n",
              "      <td>nira/tanira</td>\n",
              "      <td>handpump</td>\n",
              "      <td>vwc</td>\n",
              "      <td>user-group</td>\n",
              "      <td>never pay</td>\n",
              "      <td>never pay</td>\n",
              "      <td>soft</td>\n",
              "      <td>good</td>\n",
              "      <td>enough</td>\n",
              "      <td>enough</td>\n",
              "      <td>shallow well</td>\n",
              "      <td>shallow well</td>\n",
              "      <td>groundwater</td>\n",
              "      <td>hand pump</td>\n",
              "      <td>hand pump</td>\n",
              "    </tr>\n",
              "    <tr>\n",
              "      <th>3</th>\n",
              "      <td>3</td>\n",
              "      <td>17247</td>\n",
              "      <td>0.0</td>\n",
              "      <td>2011-07-14</td>\n",
              "      <td>Ka</td>\n",
              "      <td>0</td>\n",
              "      <td>KA</td>\n",
              "      <td>31.496315</td>\n",
              "      <td>-2.167140</td>\n",
              "      <td>Kakindo</td>\n",
              "      <td>0</td>\n",
              "      <td>Lake Victoria</td>\n",
              "      <td>Nyamilanda A</td>\n",
              "      <td>Kagera</td>\n",
              "      <td>18</td>\n",
              "      <td>3</td>\n",
              "      <td>Muleba</td>\n",
              "      <td>Kyebitembe</td>\n",
              "      <td>0</td>\n",
              "      <td>True</td>\n",
              "      <td>GeoData Consultants Ltd</td>\n",
              "      <td>VWC</td>\n",
              "      <td>NaN</td>\n",
              "      <td>True</td>\n",
              "      <td>0</td>\n",
              "      <td>other</td>\n",
              "      <td>other</td>\n",
              "      <td>other</td>\n",
              "      <td>vwc</td>\n",
              "      <td>user-group</td>\n",
              "      <td>never pay</td>\n",
              "      <td>never pay</td>\n",
              "      <td>soft</td>\n",
              "      <td>good</td>\n",
              "      <td>enough</td>\n",
              "      <td>enough</td>\n",
              "      <td>shallow well</td>\n",
              "      <td>shallow well</td>\n",
              "      <td>groundwater</td>\n",
              "      <td>hand pump</td>\n",
              "      <td>hand pump</td>\n",
              "    </tr>\n",
              "    <tr>\n",
              "      <th>4</th>\n",
              "      <td>4</td>\n",
              "      <td>1248</td>\n",
              "      <td>0.0</td>\n",
              "      <td>2011-07-31</td>\n",
              "      <td>World Vision</td>\n",
              "      <td>0</td>\n",
              "      <td>KYASHA ENTERPR</td>\n",
              "      <td>31.843905</td>\n",
              "      <td>-1.244841</td>\n",
              "      <td>Shule Ya Msingi Ibosa</td>\n",
              "      <td>0</td>\n",
              "      <td>Lake Victoria</td>\n",
              "      <td>Ibosa</td>\n",
              "      <td>Kagera</td>\n",
              "      <td>18</td>\n",
              "      <td>2</td>\n",
              "      <td>Bukoba Rural</td>\n",
              "      <td>Nyakato</td>\n",
              "      <td>0</td>\n",
              "      <td>True</td>\n",
              "      <td>GeoData Consultants Ltd</td>\n",
              "      <td>VWC</td>\n",
              "      <td>NaN</td>\n",
              "      <td>True</td>\n",
              "      <td>0</td>\n",
              "      <td>gravity</td>\n",
              "      <td>gravity</td>\n",
              "      <td>gravity</td>\n",
              "      <td>vwc</td>\n",
              "      <td>user-group</td>\n",
              "      <td>never pay</td>\n",
              "      <td>never pay</td>\n",
              "      <td>soft</td>\n",
              "      <td>good</td>\n",
              "      <td>insufficient</td>\n",
              "      <td>insufficient</td>\n",
              "      <td>rainwater harvesting</td>\n",
              "      <td>rainwater harvesting</td>\n",
              "      <td>surface</td>\n",
              "      <td>communal standpipe</td>\n",
              "      <td>communal standpipe</td>\n",
              "    </tr>\n",
              "    <tr>\n",
              "      <th>...</th>\n",
              "      <td>...</td>\n",
              "      <td>...</td>\n",
              "      <td>...</td>\n",
              "      <td>...</td>\n",
              "      <td>...</td>\n",
              "      <td>...</td>\n",
              "      <td>...</td>\n",
              "      <td>...</td>\n",
              "      <td>...</td>\n",
              "      <td>...</td>\n",
              "      <td>...</td>\n",
              "      <td>...</td>\n",
              "      <td>...</td>\n",
              "      <td>...</td>\n",
              "      <td>...</td>\n",
              "      <td>...</td>\n",
              "      <td>...</td>\n",
              "      <td>...</td>\n",
              "      <td>...</td>\n",
              "      <td>...</td>\n",
              "      <td>...</td>\n",
              "      <td>...</td>\n",
              "      <td>...</td>\n",
              "      <td>...</td>\n",
              "      <td>...</td>\n",
              "      <td>...</td>\n",
              "      <td>...</td>\n",
              "      <td>...</td>\n",
              "      <td>...</td>\n",
              "      <td>...</td>\n",
              "      <td>...</td>\n",
              "      <td>...</td>\n",
              "      <td>...</td>\n",
              "      <td>...</td>\n",
              "      <td>...</td>\n",
              "      <td>...</td>\n",
              "      <td>...</td>\n",
              "      <td>...</td>\n",
              "      <td>...</td>\n",
              "      <td>...</td>\n",
              "      <td>...</td>\n",
              "    </tr>\n",
              "    <tr>\n",
              "      <th>14845</th>\n",
              "      <td>14845</td>\n",
              "      <td>45291</td>\n",
              "      <td>1000.0</td>\n",
              "      <td>2011-03-10</td>\n",
              "      <td>Danida</td>\n",
              "      <td>1811</td>\n",
              "      <td>DANID</td>\n",
              "      <td>34.533405</td>\n",
              "      <td>-9.781788</td>\n",
              "      <td>none</td>\n",
              "      <td>0</td>\n",
              "      <td>Lake Nyasa</td>\n",
              "      <td>Ng'Alike</td>\n",
              "      <td>Iringa</td>\n",
              "      <td>11</td>\n",
              "      <td>5</td>\n",
              "      <td>Ludewa</td>\n",
              "      <td>Mlangali</td>\n",
              "      <td>45</td>\n",
              "      <td>True</td>\n",
              "      <td>GeoData Consultants Ltd</td>\n",
              "      <td>VWC</td>\n",
              "      <td>DANIDA</td>\n",
              "      <td>False</td>\n",
              "      <td>1988</td>\n",
              "      <td>gravity</td>\n",
              "      <td>gravity</td>\n",
              "      <td>gravity</td>\n",
              "      <td>vwc</td>\n",
              "      <td>user-group</td>\n",
              "      <td>pay annually</td>\n",
              "      <td>annually</td>\n",
              "      <td>soft</td>\n",
              "      <td>good</td>\n",
              "      <td>seasonal</td>\n",
              "      <td>seasonal</td>\n",
              "      <td>spring</td>\n",
              "      <td>spring</td>\n",
              "      <td>groundwater</td>\n",
              "      <td>communal standpipe</td>\n",
              "      <td>communal standpipe</td>\n",
              "    </tr>\n",
              "    <tr>\n",
              "      <th>14846</th>\n",
              "      <td>14846</td>\n",
              "      <td>54736</td>\n",
              "      <td>0.0</td>\n",
              "      <td>2011-03-18</td>\n",
              "      <td>Solidame</td>\n",
              "      <td>252</td>\n",
              "      <td>SOLIDAME</td>\n",
              "      <td>36.665856</td>\n",
              "      <td>-8.141162</td>\n",
              "      <td>Kwamadenge</td>\n",
              "      <td>0</td>\n",
              "      <td>Rufiji</td>\n",
              "      <td>Magoha</td>\n",
              "      <td>Morogoro</td>\n",
              "      <td>5</td>\n",
              "      <td>3</td>\n",
              "      <td>Kilombero</td>\n",
              "      <td>Lumemo</td>\n",
              "      <td>150</td>\n",
              "      <td>True</td>\n",
              "      <td>GeoData Consultants Ltd</td>\n",
              "      <td>NaN</td>\n",
              "      <td>NaN</td>\n",
              "      <td>True</td>\n",
              "      <td>2010</td>\n",
              "      <td>nira/tanira</td>\n",
              "      <td>nira/tanira</td>\n",
              "      <td>handpump</td>\n",
              "      <td>vwc</td>\n",
              "      <td>user-group</td>\n",
              "      <td>never pay</td>\n",
              "      <td>never pay</td>\n",
              "      <td>soft</td>\n",
              "      <td>good</td>\n",
              "      <td>insufficient</td>\n",
              "      <td>insufficient</td>\n",
              "      <td>shallow well</td>\n",
              "      <td>shallow well</td>\n",
              "      <td>groundwater</td>\n",
              "      <td>hand pump</td>\n",
              "      <td>hand pump</td>\n",
              "    </tr>\n",
              "    <tr>\n",
              "      <th>14847</th>\n",
              "      <td>14847</td>\n",
              "      <td>44238</td>\n",
              "      <td>0.0</td>\n",
              "      <td>2012-11-03</td>\n",
              "      <td>Government Of Tanzania</td>\n",
              "      <td>0</td>\n",
              "      <td>Central government</td>\n",
              "      <td>33.020305</td>\n",
              "      <td>-4.949560</td>\n",
              "      <td>Kwa Mzee Salum Chata</td>\n",
              "      <td>0</td>\n",
              "      <td>Lake Tanganyika</td>\n",
              "      <td>Simbo 2</td>\n",
              "      <td>Tabora</td>\n",
              "      <td>14</td>\n",
              "      <td>3</td>\n",
              "      <td>Uyui</td>\n",
              "      <td>Magiri</td>\n",
              "      <td>0</td>\n",
              "      <td>True</td>\n",
              "      <td>GeoData Consultants Ltd</td>\n",
              "      <td>VWC</td>\n",
              "      <td>Maguri water supply</td>\n",
              "      <td>True</td>\n",
              "      <td>0</td>\n",
              "      <td>other</td>\n",
              "      <td>other</td>\n",
              "      <td>other</td>\n",
              "      <td>vwc</td>\n",
              "      <td>user-group</td>\n",
              "      <td>never pay</td>\n",
              "      <td>never pay</td>\n",
              "      <td>soft</td>\n",
              "      <td>good</td>\n",
              "      <td>dry</td>\n",
              "      <td>dry</td>\n",
              "      <td>spring</td>\n",
              "      <td>spring</td>\n",
              "      <td>groundwater</td>\n",
              "      <td>communal standpipe multiple</td>\n",
              "      <td>communal standpipe</td>\n",
              "    </tr>\n",
              "    <tr>\n",
              "      <th>14848</th>\n",
              "      <td>14848</td>\n",
              "      <td>13229</td>\n",
              "      <td>0.0</td>\n",
              "      <td>2013-01-18</td>\n",
              "      <td>Tassaf I</td>\n",
              "      <td>1294</td>\n",
              "      <td>TASSAF</td>\n",
              "      <td>30.588892</td>\n",
              "      <td>-3.837622</td>\n",
              "      <td>Center</td>\n",
              "      <td>0</td>\n",
              "      <td>Lake Tanganyika</td>\n",
              "      <td>Maendeleo</td>\n",
              "      <td>Kigoma</td>\n",
              "      <td>16</td>\n",
              "      <td>1</td>\n",
              "      <td>Kibondo</td>\n",
              "      <td>Rugongowe</td>\n",
              "      <td>700</td>\n",
              "      <td>True</td>\n",
              "      <td>GeoData Consultants Ltd</td>\n",
              "      <td>VWC</td>\n",
              "      <td>Kichananga gravity water supply</td>\n",
              "      <td>False</td>\n",
              "      <td>2004</td>\n",
              "      <td>gravity</td>\n",
              "      <td>gravity</td>\n",
              "      <td>gravity</td>\n",
              "      <td>vwc</td>\n",
              "      <td>user-group</td>\n",
              "      <td>unknown</td>\n",
              "      <td>unknown</td>\n",
              "      <td>soft</td>\n",
              "      <td>good</td>\n",
              "      <td>enough</td>\n",
              "      <td>enough</td>\n",
              "      <td>spring</td>\n",
              "      <td>spring</td>\n",
              "      <td>groundwater</td>\n",
              "      <td>communal standpipe multiple</td>\n",
              "      <td>communal standpipe</td>\n",
              "    </tr>\n",
              "    <tr>\n",
              "      <th>14849</th>\n",
              "      <td>14849</td>\n",
              "      <td>70800</td>\n",
              "      <td>30.0</td>\n",
              "      <td>2011-02-23</td>\n",
              "      <td>Jaica</td>\n",
              "      <td>60</td>\n",
              "      <td>JAICA</td>\n",
              "      <td>39.330407</td>\n",
              "      <td>-7.039634</td>\n",
              "      <td>Kwa Jokoo</td>\n",
              "      <td>0</td>\n",
              "      <td>Wami / Ruvu</td>\n",
              "      <td>Kwa Jokoo</td>\n",
              "      <td>Pwani</td>\n",
              "      <td>60</td>\n",
              "      <td>43</td>\n",
              "      <td>Mkuranga</td>\n",
              "      <td>Vikindu</td>\n",
              "      <td>1</td>\n",
              "      <td>True</td>\n",
              "      <td>GeoData Consultants Ltd</td>\n",
              "      <td>VWC</td>\n",
              "      <td>Vianzi Water Supply</td>\n",
              "      <td>False</td>\n",
              "      <td>2010</td>\n",
              "      <td>submersible</td>\n",
              "      <td>submersible</td>\n",
              "      <td>submersible</td>\n",
              "      <td>vwc</td>\n",
              "      <td>user-group</td>\n",
              "      <td>pay per bucket</td>\n",
              "      <td>per bucket</td>\n",
              "      <td>soft</td>\n",
              "      <td>good</td>\n",
              "      <td>enough</td>\n",
              "      <td>enough</td>\n",
              "      <td>machine dbh</td>\n",
              "      <td>borehole</td>\n",
              "      <td>groundwater</td>\n",
              "      <td>communal standpipe</td>\n",
              "      <td>communal standpipe</td>\n",
              "    </tr>\n",
              "  </tbody>\n",
              "</table>\n",
              "<p>14850 rows × 41 columns</p>\n",
              "</div>"
            ],
            "text/plain": [
              "       Unnamed: 0     id  ...              waterpoint_type waterpoint_type_group\n",
              "0               0  21215  ...           communal standpipe    communal standpipe\n",
              "1               1  25893  ...           communal standpipe    communal standpipe\n",
              "2               2  15713  ...                    hand pump             hand pump\n",
              "3               3  17247  ...                    hand pump             hand pump\n",
              "4               4   1248  ...           communal standpipe    communal standpipe\n",
              "...           ...    ...  ...                          ...                   ...\n",
              "14845       14845  45291  ...           communal standpipe    communal standpipe\n",
              "14846       14846  54736  ...                    hand pump             hand pump\n",
              "14847       14847  44238  ...  communal standpipe multiple    communal standpipe\n",
              "14848       14848  13229  ...  communal standpipe multiple    communal standpipe\n",
              "14849       14849  70800  ...           communal standpipe    communal standpipe\n",
              "\n",
              "[14850 rows x 41 columns]"
            ]
          },
          "metadata": {}
        }
      ]
    },
    {
      "cell_type": "markdown",
      "metadata": {
        "id": "sFn-7T3lKeXn"
      },
      "source": [
        "In this step, we will perform the below operations to check what the data set comprises of. We will check the below things:\n",
        "\n",
        "1. Shape of the dataset\n",
        "2. Info of the dataset\n",
        "3. Data types of variables\n",
        "4. The range of the features\n",
        "5. If there are missing values/Nan values\n",
        "6. The unique values in the columns and their frequency\n",
        "7. What are the output labels, what information is given by each variable - categorical, numeric, location, date time."
      ]
    },
    {
      "cell_type": "code",
      "metadata": {
        "colab": {
          "base_uri": "https://localhost:8080/"
        },
        "id": "kaz-S3sL5Wzy",
        "outputId": "f9834203-bc9e-4087-f821-b662d13abbcd"
      },
      "source": [
        "train_df.info()"
      ],
      "execution_count": null,
      "outputs": [
        {
          "output_type": "stream",
          "name": "stdout",
          "text": [
            "<class 'pandas.core.frame.DataFrame'>\n",
            "RangeIndex: 44550 entries, 0 to 44549\n",
            "Data columns (total 41 columns):\n",
            " #   Column                 Non-Null Count  Dtype  \n",
            "---  ------                 --------------  -----  \n",
            " 0   id                     44550 non-null  int64  \n",
            " 1   amount_tsh             44550 non-null  float64\n",
            " 2   date_recorded          44550 non-null  object \n",
            " 3   funder                 41757 non-null  object \n",
            " 4   gps_height             44550 non-null  int64  \n",
            " 5   installer              41743 non-null  object \n",
            " 6   longitude              44550 non-null  float64\n",
            " 7   latitude               44550 non-null  float64\n",
            " 8   wpt_name               44550 non-null  object \n",
            " 9   num_private            44550 non-null  int64  \n",
            " 10  basin                  44550 non-null  object \n",
            " 11  subvillage             44263 non-null  object \n",
            " 12  region                 44550 non-null  object \n",
            " 13  region_code            44550 non-null  int64  \n",
            " 14  district_code          44550 non-null  int64  \n",
            " 15  lga                    44550 non-null  object \n",
            " 16  ward                   44550 non-null  object \n",
            " 17  population             44550 non-null  int64  \n",
            " 18  public_meeting         42059 non-null  object \n",
            " 19  recorded_by            44550 non-null  object \n",
            " 20  scheme_management      41718 non-null  object \n",
            " 21  scheme_name            23440 non-null  object \n",
            " 22  permit                 42214 non-null  object \n",
            " 23  construction_year      44550 non-null  int64  \n",
            " 24  extraction_type        44550 non-null  object \n",
            " 25  extraction_type_group  44550 non-null  object \n",
            " 26  extraction_type_class  44550 non-null  object \n",
            " 27  management             44550 non-null  object \n",
            " 28  management_group       44550 non-null  object \n",
            " 29  payment                44550 non-null  object \n",
            " 30  payment_type           44550 non-null  object \n",
            " 31  water_quality          44550 non-null  object \n",
            " 32  quality_group          44550 non-null  object \n",
            " 33  quantity               44550 non-null  object \n",
            " 34  quantity_group         44550 non-null  object \n",
            " 35  source                 44550 non-null  object \n",
            " 36  source_type            44550 non-null  object \n",
            " 37  source_class           44550 non-null  object \n",
            " 38  waterpoint_type        44550 non-null  object \n",
            " 39  waterpoint_type_group  44550 non-null  object \n",
            " 40  status_group           44550 non-null  object \n",
            "dtypes: float64(3), int64(7), object(31)\n",
            "memory usage: 13.9+ MB\n"
          ]
        }
      ]
    },
    {
      "cell_type": "code",
      "metadata": {
        "colab": {
          "base_uri": "https://localhost:8080/"
        },
        "id": "996rgSDD5Yv_",
        "outputId": "41f17f58-0159-4da1-fd11-292f743220cd"
      },
      "source": [
        "test_df.info()"
      ],
      "execution_count": null,
      "outputs": [
        {
          "output_type": "stream",
          "name": "stdout",
          "text": [
            "<class 'pandas.core.frame.DataFrame'>\n",
            "RangeIndex: 14850 entries, 0 to 14849\n",
            "Data columns (total 41 columns):\n",
            " #   Column                 Non-Null Count  Dtype  \n",
            "---  ------                 --------------  -----  \n",
            " 0   Unnamed: 0             14850 non-null  int64  \n",
            " 1   id                     14850 non-null  int64  \n",
            " 2   amount_tsh             14850 non-null  float64\n",
            " 3   date_recorded          14850 non-null  object \n",
            " 4   funder                 14008 non-null  object \n",
            " 5   gps_height             14850 non-null  int64  \n",
            " 6   installer              14002 non-null  object \n",
            " 7   longitude              14850 non-null  float64\n",
            " 8   latitude               14850 non-null  float64\n",
            " 9   wpt_name               14850 non-null  object \n",
            " 10  num_private            14850 non-null  int64  \n",
            " 11  basin                  14850 non-null  object \n",
            " 12  subvillage             14766 non-null  object \n",
            " 13  region                 14850 non-null  object \n",
            " 14  region_code            14850 non-null  int64  \n",
            " 15  district_code          14850 non-null  int64  \n",
            " 16  lga                    14850 non-null  object \n",
            " 17  ward                   14850 non-null  object \n",
            " 18  population             14850 non-null  int64  \n",
            " 19  public_meeting         14007 non-null  object \n",
            " 20  recorded_by            14850 non-null  object \n",
            " 21  scheme_management      13805 non-null  object \n",
            " 22  scheme_name            7794 non-null   object \n",
            " 23  permit                 14130 non-null  object \n",
            " 24  construction_year      14850 non-null  int64  \n",
            " 25  extraction_type        14850 non-null  object \n",
            " 26  extraction_type_group  14850 non-null  object \n",
            " 27  extraction_type_class  14850 non-null  object \n",
            " 28  management             14850 non-null  object \n",
            " 29  management_group       14850 non-null  object \n",
            " 30  payment                14850 non-null  object \n",
            " 31  payment_type           14850 non-null  object \n",
            " 32  water_quality          14850 non-null  object \n",
            " 33  quality_group          14850 non-null  object \n",
            " 34  quantity               14850 non-null  object \n",
            " 35  quantity_group         14850 non-null  object \n",
            " 36  source                 14850 non-null  object \n",
            " 37  source_type            14850 non-null  object \n",
            " 38  source_class           14850 non-null  object \n",
            " 39  waterpoint_type        14850 non-null  object \n",
            " 40  waterpoint_type_group  14850 non-null  object \n",
            "dtypes: float64(3), int64(8), object(30)\n",
            "memory usage: 4.6+ MB\n"
          ]
        }
      ]
    },
    {
      "cell_type": "code",
      "metadata": {
        "colab": {
          "base_uri": "https://localhost:8080/"
        },
        "id": "PZ4W9Ikm5iEV",
        "outputId": "f1c9f5c4-9787-4fdc-a3fd-feb6e00d1597"
      },
      "source": [
        "nullcols = []\n",
        "for col in train_df.columns:\n",
        "    nbnull = (train_df[col].isnull()*1).sum()\n",
        "    if ( nbnull > 0 ):\n",
        "        tp = type(train_df[train_df[col].notnull()][col].iat[0]) # type of first non null value\n",
        "        nullcols.append([col, tp])\n",
        "        print(col, nbnull, tp)"
      ],
      "execution_count": null,
      "outputs": [
        {
          "output_type": "stream",
          "name": "stdout",
          "text": [
            "funder 2793 <class 'str'>\n",
            "installer 2807 <class 'str'>\n",
            "subvillage 287 <class 'str'>\n",
            "public_meeting 2491 <class 'bool'>\n",
            "scheme_management 2832 <class 'str'>\n",
            "scheme_name 21110 <class 'str'>\n",
            "permit 2336 <class 'bool'>\n"
          ]
        }
      ]
    },
    {
      "cell_type": "code",
      "metadata": {
        "colab": {
          "base_uri": "https://localhost:8080/"
        },
        "id": "u5e7EsY05mau",
        "outputId": "abfcafc7-e78b-4a79-97c1-eed29b1ba533"
      },
      "source": [
        "nullcols = []\n",
        "for col in test_df.columns:\n",
        "    nbnull = (test_df[col].isnull()*1).sum()\n",
        "    if ( nbnull > 0 ):\n",
        "        tp = type(test_df[test_df[col].notnull()][col].iat[0]) # type of first non null value\n",
        "        nullcols.append([col, tp])\n",
        "        print(col, nbnull, tp)"
      ],
      "execution_count": null,
      "outputs": [
        {
          "output_type": "stream",
          "name": "stdout",
          "text": [
            "funder 842 <class 'str'>\n",
            "installer 848 <class 'str'>\n",
            "subvillage 84 <class 'str'>\n",
            "public_meeting 843 <class 'bool'>\n",
            "scheme_management 1045 <class 'str'>\n",
            "scheme_name 7056 <class 'str'>\n",
            "permit 720 <class 'bool'>\n"
          ]
        }
      ]
    },
    {
      "cell_type": "markdown",
      "metadata": {
        "id": "WmnS4pnV6QAe"
      },
      "source": [
        "# Observations after EDA\n",
        "\n",
        "There are 44550 pumps, 41 columns\n",
        "\n",
        "Out of them 39 are features and the first column is the pump id with which we will associate the output prediction.\n",
        "\n",
        "###Labels :\n",
        "\n",
        "The labels are under the column \"status_group\" and are one of the three following values:\n",
        "- functional - the waterpoint is operational and there are no repairs needed\n",
        "- functional needs repair - the waterpoint is operational, but needs repairs\n",
        "- non functional - the waterpoint is not operational\n",
        "\n",
        "It is a categorical labelled column\n",
        "\n",
        "###Categorical Features :\n",
        "\n",
        "We have the following categorical variables:\n",
        "- funder - Who funded the well, this has null values maybe all funders were not named.\n",
        "- installer - Organization that installed the well, this has null values \n",
        "- wpt_name - Name of the waterpoint if there is one\n",
        "- basin - Geographic water basin\n",
        "- subvillage - Geographic location, this has null values\n",
        "- region - Geographic location\n",
        "- recorded_by - Group entering this row of data, it seems to be same company (as it has only 1 unique value) so this column would be eliminated\n",
        "- public_meeting (True/False), this has null values \n",
        "- permit (True/False) - If the waterpoint is permitted, this has null values \n",
        "- scheme_management - Who operates the waterpoint, this has null values \n",
        "- scheme_name - Who operates the waterpoint, this has null values \n",
        "- extraction_type - The kind of extraction the waterpoint uses\n",
        "- extraction_type_group - The kind of extraction the waterpoint uses\n",
        "- extraction_type_class - The kind of extraction the waterpoint uses\n",
        "- management - How the waterpoint is managed\n",
        "- management_group - How the waterpoint is managed\n",
        "- payment - What the water costs\n",
        "- payment_type - What the water costs\n",
        "- water_quality - The quality of the water\n",
        "- quality_group - The quality of the water\n",
        "- waterpoint_type - The kind of waterpoint\n",
        "- waterpoint_type_group - The kind of waterpoint\n",
        "- source - The source of the water\n",
        "- source_type - The source of the water\n",
        "- source_class - The source of the water\n",
        "- quantity - The quantity of water (dry, enough, insufficient, seasonal, unknown)\n",
        "- quantity_group - The quantity of the water\n",
        "- lga - Geographic location\n",
        "- ward - Geographic location\n",
        "- date_recorded - The date the row was entered\n",
        "\n",
        "###Continuous Features:\n",
        "We have four quantitative features:\n",
        "\n",
        "- amount_tsh - Total static head (amount of water available to waterpoint)\n",
        "- gps_height - Altitude of the well\n",
        "- longitude - GPS coordinate\n",
        "- lattitude - GPS coordinate\n",
        "- num_private - no avaiable information (maybe can be eliminated)\n",
        "- region_code - Geographic location (coded)\n",
        "- district_code - Geographic location (coded)\n",
        "- population - Population around the well\n",
        "- construction_year- Year the waterpoint was constructed\n",
        "\n",
        "So we have \n",
        "1. 1 column - id\n",
        "2. 30 columns of categorical variables\n",
        "3. 9 columns of continuous variables\n",
        "4. 1 column - status_group - labels\n",
        "\n",
        "Hence 41 columns variables are mapped...\n",
        "\n",
        "Also it is seen that there are a number of features that are mapped to a \"_group\" column which lead to redundancies. So we can delete one of these columns for a particular type of feature.\n",
        "\n",
        "Now we begin the visualization and mapping of variables to find useful features that we can utilise for prediction. This is a very freeform process, and again each dataset is different, so there is no one size fits all strategy.\n",
        "There mare many categorical columns with null/missing values and those where the missing values are hidden with '0' or a none. We can check these by seeing the values that have a very high frequency in the column.\n",
        "\n",
        "As we have geographical data we can also try to create geographical maps, besides regular histograms and boxplots. LEt us start by analysing the continuous features."
      ]
    },
    {
      "cell_type": "code",
      "metadata": {
        "colab": {
          "base_uri": "https://localhost:8080/"
        },
        "id": "ujL3I2BV5tUF",
        "outputId": "308dd3c5-538f-4c61-e644-928ef3b10164"
      },
      "source": [
        "pip install geopandas"
      ],
      "execution_count": null,
      "outputs": [
        {
          "output_type": "stream",
          "name": "stdout",
          "text": [
            "Collecting geopandas\n",
            "  Downloading geopandas-0.10.2-py2.py3-none-any.whl (1.0 MB)\n",
            "\u001b[?25l\r\u001b[K     |▎                               | 10 kB 19.9 MB/s eta 0:00:01\r\u001b[K     |▋                               | 20 kB 24.0 MB/s eta 0:00:01\r\u001b[K     |█                               | 30 kB 27.9 MB/s eta 0:00:01\r\u001b[K     |█▎                              | 40 kB 31.2 MB/s eta 0:00:01\r\u001b[K     |█▋                              | 51 kB 10.9 MB/s eta 0:00:01\r\u001b[K     |██                              | 61 kB 12.5 MB/s eta 0:00:01\r\u001b[K     |██▎                             | 71 kB 9.6 MB/s eta 0:00:01\r\u001b[K     |██▌                             | 81 kB 10.7 MB/s eta 0:00:01\r\u001b[K     |██▉                             | 92 kB 9.0 MB/s eta 0:00:01\r\u001b[K     |███▏                            | 102 kB 9.1 MB/s eta 0:00:01\r\u001b[K     |███▌                            | 112 kB 9.1 MB/s eta 0:00:01\r\u001b[K     |███▉                            | 122 kB 9.1 MB/s eta 0:00:01\r\u001b[K     |████▏                           | 133 kB 9.1 MB/s eta 0:00:01\r\u001b[K     |████▌                           | 143 kB 9.1 MB/s eta 0:00:01\r\u001b[K     |████▊                           | 153 kB 9.1 MB/s eta 0:00:01\r\u001b[K     |█████                           | 163 kB 9.1 MB/s eta 0:00:01\r\u001b[K     |█████▍                          | 174 kB 9.1 MB/s eta 0:00:01\r\u001b[K     |█████▊                          | 184 kB 9.1 MB/s eta 0:00:01\r\u001b[K     |██████                          | 194 kB 9.1 MB/s eta 0:00:01\r\u001b[K     |██████▍                         | 204 kB 9.1 MB/s eta 0:00:01\r\u001b[K     |██████▊                         | 215 kB 9.1 MB/s eta 0:00:01\r\u001b[K     |███████                         | 225 kB 9.1 MB/s eta 0:00:01\r\u001b[K     |███████▎                        | 235 kB 9.1 MB/s eta 0:00:01\r\u001b[K     |███████▋                        | 245 kB 9.1 MB/s eta 0:00:01\r\u001b[K     |████████                        | 256 kB 9.1 MB/s eta 0:00:01\r\u001b[K     |████████▎                       | 266 kB 9.1 MB/s eta 0:00:01\r\u001b[K     |████████▋                       | 276 kB 9.1 MB/s eta 0:00:01\r\u001b[K     |█████████                       | 286 kB 9.1 MB/s eta 0:00:01\r\u001b[K     |█████████▏                      | 296 kB 9.1 MB/s eta 0:00:01\r\u001b[K     |█████████▌                      | 307 kB 9.1 MB/s eta 0:00:01\r\u001b[K     |█████████▉                      | 317 kB 9.1 MB/s eta 0:00:01\r\u001b[K     |██████████▏                     | 327 kB 9.1 MB/s eta 0:00:01\r\u001b[K     |██████████▌                     | 337 kB 9.1 MB/s eta 0:00:01\r\u001b[K     |██████████▉                     | 348 kB 9.1 MB/s eta 0:00:01\r\u001b[K     |███████████▏                    | 358 kB 9.1 MB/s eta 0:00:01\r\u001b[K     |███████████▍                    | 368 kB 9.1 MB/s eta 0:00:01\r\u001b[K     |███████████▊                    | 378 kB 9.1 MB/s eta 0:00:01\r\u001b[K     |████████████                    | 389 kB 9.1 MB/s eta 0:00:01\r\u001b[K     |████████████▍                   | 399 kB 9.1 MB/s eta 0:00:01\r\u001b[K     |████████████▊                   | 409 kB 9.1 MB/s eta 0:00:01\r\u001b[K     |█████████████                   | 419 kB 9.1 MB/s eta 0:00:01\r\u001b[K     |█████████████▍                  | 430 kB 9.1 MB/s eta 0:00:01\r\u001b[K     |█████████████▋                  | 440 kB 9.1 MB/s eta 0:00:01\r\u001b[K     |██████████████                  | 450 kB 9.1 MB/s eta 0:00:01\r\u001b[K     |██████████████▎                 | 460 kB 9.1 MB/s eta 0:00:01\r\u001b[K     |██████████████▋                 | 471 kB 9.1 MB/s eta 0:00:01\r\u001b[K     |███████████████                 | 481 kB 9.1 MB/s eta 0:00:01\r\u001b[K     |███████████████▎                | 491 kB 9.1 MB/s eta 0:00:01\r\u001b[K     |███████████████▋                | 501 kB 9.1 MB/s eta 0:00:01\r\u001b[K     |███████████████▉                | 512 kB 9.1 MB/s eta 0:00:01\r\u001b[K     |████████████████▏               | 522 kB 9.1 MB/s eta 0:00:01\r\u001b[K     |████████████████▌               | 532 kB 9.1 MB/s eta 0:00:01\r\u001b[K     |████████████████▉               | 542 kB 9.1 MB/s eta 0:00:01\r\u001b[K     |█████████████████▏              | 552 kB 9.1 MB/s eta 0:00:01\r\u001b[K     |█████████████████▌              | 563 kB 9.1 MB/s eta 0:00:01\r\u001b[K     |█████████████████▉              | 573 kB 9.1 MB/s eta 0:00:01\r\u001b[K     |██████████████████              | 583 kB 9.1 MB/s eta 0:00:01\r\u001b[K     |██████████████████▍             | 593 kB 9.1 MB/s eta 0:00:01\r\u001b[K     |██████████████████▊             | 604 kB 9.1 MB/s eta 0:00:01\r\u001b[K     |███████████████████             | 614 kB 9.1 MB/s eta 0:00:01\r\u001b[K     |███████████████████▍            | 624 kB 9.1 MB/s eta 0:00:01\r\u001b[K     |███████████████████▊            | 634 kB 9.1 MB/s eta 0:00:01\r\u001b[K     |████████████████████            | 645 kB 9.1 MB/s eta 0:00:01\r\u001b[K     |████████████████████▎           | 655 kB 9.1 MB/s eta 0:00:01\r\u001b[K     |████████████████████▋           | 665 kB 9.1 MB/s eta 0:00:01\r\u001b[K     |█████████████████████           | 675 kB 9.1 MB/s eta 0:00:01\r\u001b[K     |█████████████████████▎          | 686 kB 9.1 MB/s eta 0:00:01\r\u001b[K     |█████████████████████▋          | 696 kB 9.1 MB/s eta 0:00:01\r\u001b[K     |██████████████████████          | 706 kB 9.1 MB/s eta 0:00:01\r\u001b[K     |██████████████████████▎         | 716 kB 9.1 MB/s eta 0:00:01\r\u001b[K     |██████████████████████▋         | 727 kB 9.1 MB/s eta 0:00:01\r\u001b[K     |██████████████████████▉         | 737 kB 9.1 MB/s eta 0:00:01\r\u001b[K     |███████████████████████▏        | 747 kB 9.1 MB/s eta 0:00:01\r\u001b[K     |███████████████████████▌        | 757 kB 9.1 MB/s eta 0:00:01\r\u001b[K     |███████████████████████▉        | 768 kB 9.1 MB/s eta 0:00:01\r\u001b[K     |████████████████████████▏       | 778 kB 9.1 MB/s eta 0:00:01\r\u001b[K     |████████████████████████▌       | 788 kB 9.1 MB/s eta 0:00:01\r\u001b[K     |████████████████████████▉       | 798 kB 9.1 MB/s eta 0:00:01\r\u001b[K     |█████████████████████████       | 808 kB 9.1 MB/s eta 0:00:01\r\u001b[K     |█████████████████████████▍      | 819 kB 9.1 MB/s eta 0:00:01\r\u001b[K     |█████████████████████████▊      | 829 kB 9.1 MB/s eta 0:00:01\r\u001b[K     |██████████████████████████      | 839 kB 9.1 MB/s eta 0:00:01\r\u001b[K     |██████████████████████████▍     | 849 kB 9.1 MB/s eta 0:00:01\r\u001b[K     |██████████████████████████▊     | 860 kB 9.1 MB/s eta 0:00:01\r\u001b[K     |███████████████████████████     | 870 kB 9.1 MB/s eta 0:00:01\r\u001b[K     |███████████████████████████▎    | 880 kB 9.1 MB/s eta 0:00:01\r\u001b[K     |███████████████████████████▋    | 890 kB 9.1 MB/s eta 0:00:01\r\u001b[K     |████████████████████████████    | 901 kB 9.1 MB/s eta 0:00:01\r\u001b[K     |████████████████████████████▎   | 911 kB 9.1 MB/s eta 0:00:01\r\u001b[K     |████████████████████████████▋   | 921 kB 9.1 MB/s eta 0:00:01\r\u001b[K     |█████████████████████████████   | 931 kB 9.1 MB/s eta 0:00:01\r\u001b[K     |█████████████████████████████▎  | 942 kB 9.1 MB/s eta 0:00:01\r\u001b[K     |█████████████████████████████▌  | 952 kB 9.1 MB/s eta 0:00:01\r\u001b[K     |█████████████████████████████▉  | 962 kB 9.1 MB/s eta 0:00:01\r\u001b[K     |██████████████████████████████▏ | 972 kB 9.1 MB/s eta 0:00:01\r\u001b[K     |██████████████████████████████▌ | 983 kB 9.1 MB/s eta 0:00:01\r\u001b[K     |██████████████████████████████▉ | 993 kB 9.1 MB/s eta 0:00:01\r\u001b[K     |███████████████████████████████▏| 1.0 MB 9.1 MB/s eta 0:00:01\r\u001b[K     |███████████████████████████████▌| 1.0 MB 9.1 MB/s eta 0:00:01\r\u001b[K     |███████████████████████████████▊| 1.0 MB 9.1 MB/s eta 0:00:01\r\u001b[K     |████████████████████████████████| 1.0 MB 9.1 MB/s \n",
            "\u001b[?25hRequirement already satisfied: shapely>=1.6 in /usr/local/lib/python3.7/dist-packages (from geopandas) (1.8.0)\n",
            "Collecting pyproj>=2.2.0\n",
            "  Downloading pyproj-3.2.1-cp37-cp37m-manylinux2010_x86_64.whl (6.3 MB)\n",
            "\u001b[K     |████████████████████████████████| 6.3 MB 35.1 MB/s \n",
            "\u001b[?25hCollecting fiona>=1.8\n",
            "  Downloading Fiona-1.8.20-cp37-cp37m-manylinux1_x86_64.whl (15.4 MB)\n",
            "\u001b[K     |████████████████████████████████| 15.4 MB 59.6 MB/s \n",
            "\u001b[?25hRequirement already satisfied: pandas>=0.25.0 in /usr/local/lib/python3.7/dist-packages (from geopandas) (1.1.5)\n",
            "Requirement already satisfied: six>=1.7 in /usr/local/lib/python3.7/dist-packages (from fiona>=1.8->geopandas) (1.15.0)\n",
            "Requirement already satisfied: certifi in /usr/local/lib/python3.7/dist-packages (from fiona>=1.8->geopandas) (2021.10.8)\n",
            "Collecting click-plugins>=1.0\n",
            "  Downloading click_plugins-1.1.1-py2.py3-none-any.whl (7.5 kB)\n",
            "Collecting munch\n",
            "  Downloading munch-2.5.0-py2.py3-none-any.whl (10 kB)\n",
            "Requirement already satisfied: click>=4.0 in /usr/local/lib/python3.7/dist-packages (from fiona>=1.8->geopandas) (7.1.2)\n",
            "Requirement already satisfied: setuptools in /usr/local/lib/python3.7/dist-packages (from fiona>=1.8->geopandas) (57.4.0)\n",
            "Collecting cligj>=0.5\n",
            "  Downloading cligj-0.7.2-py3-none-any.whl (7.1 kB)\n",
            "Requirement already satisfied: attrs>=17 in /usr/local/lib/python3.7/dist-packages (from fiona>=1.8->geopandas) (21.2.0)\n",
            "Requirement already satisfied: pytz>=2017.2 in /usr/local/lib/python3.7/dist-packages (from pandas>=0.25.0->geopandas) (2018.9)\n",
            "Requirement already satisfied: python-dateutil>=2.7.3 in /usr/local/lib/python3.7/dist-packages (from pandas>=0.25.0->geopandas) (2.8.2)\n",
            "Requirement already satisfied: numpy>=1.15.4 in /usr/local/lib/python3.7/dist-packages (from pandas>=0.25.0->geopandas) (1.19.5)\n",
            "Installing collected packages: munch, cligj, click-plugins, pyproj, fiona, geopandas\n",
            "Successfully installed click-plugins-1.1.1 cligj-0.7.2 fiona-1.8.20 geopandas-0.10.2 munch-2.5.0 pyproj-3.2.1\n"
          ]
        }
      ]
    },
    {
      "cell_type": "code",
      "metadata": {
        "colab": {
          "base_uri": "https://localhost:8080/",
          "height": 269
        },
        "id": "ZFBpM0Kt5zvJ",
        "outputId": "7ba4dc44-d301-419c-90be-8b9481b67ec7"
      },
      "source": [
        "df = train_df   #For visualizing results storing the DataFrame \n",
        "\n",
        "import geopandas\n",
        "\n",
        "gdf = geopandas.GeoDataFrame(\n",
        "    df, geometry=geopandas.points_from_xy(df.longitude, df.latitude))\n",
        "\n",
        "functional = gdf.where(gdf['status_group'] == 'functional')\n",
        "repair = gdf.where(gdf['status_group'] == 'functional needs repair')\n",
        "broken = gdf.where(gdf['status_group'] == 'non functional')\n",
        "\n",
        "world = geopandas.read_file(geopandas.datasets.get_path('naturalearth_lowres'))\n",
        "\n",
        "# We restrict to Africa\n",
        "ax = world[world.continent == 'Africa'].plot(\n",
        "    color='white', edgecolor='gray')\n",
        "\n",
        "ax.scatter(broken['longitude'], broken['latitude'],\n",
        "           c='red', alpha=.5, s=1)\n",
        "\n",
        "ax.scatter(functional['longitude'], functional['latitude'],\n",
        "           c='green',alpha=.5, s=1)\n",
        "\n",
        "ax.scatter(repair['longitude'], repair['latitude'],\n",
        "           c='yellow', alpha=.5, s=1)\n",
        "\n",
        "\n",
        "\n",
        "plt.ylim(-12, 0)\n",
        "plt.xlim(28,41)\n",
        "\n",
        "plt.show()"
      ],
      "execution_count": null,
      "outputs": [
        {
          "output_type": "display_data",
          "data": {
            "image/png": "[encoded data removed]",
            "text/plain": [
              "<Figure size 432x288 with 1 Axes>"
            ]
          },
          "metadata": {
            "needs_background": "light"
          }
        }
      ]
    },
    {
      "cell_type": "markdown",
      "metadata": {
        "id": "CmUFLMbOlPZI"
      },
      "source": [
        "#Variable transformation, feature engineering, feature selection or elimination"
      ]
    },
    {
      "cell_type": "code",
      "metadata": {
        "colab": {
          "base_uri": "https://localhost:8080/"
        },
        "id": "9qbJDUHlFo8e",
        "outputId": "635d456c-d155-4131-8800-304ae227ddf3"
      },
      "source": [
        "train_df['gps_height'].replace(0.0, np.nan, inplace=True)\n",
        "train_df['population'].replace(0.0, np.nan, inplace=True)\n",
        "train_df['amount_tsh'].replace(0.0, np.nan, inplace=True)\n",
        "train_df.isnull().sum()"
      ],
      "execution_count": null,
      "outputs": [
        {
          "output_type": "execute_result",
          "data": {
            "text/plain": [
              "id                           0\n",
              "amount_tsh               31231\n",
              "date_recorded                0\n",
              "funder                    2793\n",
              "gps_height               15441\n",
              "installer                 2807\n",
              "longitude                    0\n",
              "latitude                     0\n",
              "wpt_name                     0\n",
              "num_private                  0\n",
              "basin                        0\n",
              "subvillage                 287\n",
              "region                       0\n",
              "region_code                  0\n",
              "district_code                0\n",
              "lga                          0\n",
              "ward                         0\n",
              "population               16150\n",
              "public_meeting            2491\n",
              "recorded_by                  0\n",
              "scheme_management         2832\n",
              "scheme_name              21110\n",
              "permit                    2336\n",
              "construction_year            0\n",
              "extraction_type              0\n",
              "extraction_type_group        0\n",
              "extraction_type_class        0\n",
              "management                   0\n",
              "management_group             0\n",
              "payment                      0\n",
              "payment_type                 0\n",
              "water_quality                0\n",
              "quality_group                0\n",
              "quantity                     0\n",
              "quantity_group               0\n",
              "source                       0\n",
              "source_type                  0\n",
              "source_class                 0\n",
              "waterpoint_type              0\n",
              "waterpoint_type_group        0\n",
              "status_group                 0\n",
              "geometry                     0\n",
              "dtype: int64"
            ]
          },
          "metadata": {},
          "execution_count": 11
        }
      ]
    },
    {
      "cell_type": "code",
      "metadata": {
        "colab": {
          "base_uri": "https://localhost:8080/"
        },
        "id": "tktB-HiR8zZB",
        "outputId": "0dc9ed0c-ebfc-4567-d0a3-24aaa6139be1"
      },
      "source": [
        "test_df['gps_height'].replace(0.0, np.nan, inplace=True)\n",
        "test_df['population'].replace(0.0, np.nan, inplace=True)\n",
        "test_df['amount_tsh'].replace(0.0, np.nan, inplace=True)\n",
        "test_df.isnull().sum()"
      ],
      "execution_count": null,
      "outputs": [
        {
          "output_type": "execute_result",
          "data": {
            "text/plain": [
              "Unnamed: 0                   0\n",
              "id                           0\n",
              "amount_tsh               10408\n",
              "date_recorded                0\n",
              "funder                     842\n",
              "gps_height                4997\n",
              "installer                  848\n",
              "longitude                    0\n",
              "latitude                     0\n",
              "wpt_name                     0\n",
              "num_private                  0\n",
              "basin                        0\n",
              "subvillage                  84\n",
              "region                       0\n",
              "region_code                  0\n",
              "district_code                0\n",
              "lga                          0\n",
              "ward                         0\n",
              "population                5231\n",
              "public_meeting             843\n",
              "recorded_by                  0\n",
              "scheme_management         1045\n",
              "scheme_name               7056\n",
              "permit                     720\n",
              "construction_year            0\n",
              "extraction_type              0\n",
              "extraction_type_group        0\n",
              "extraction_type_class        0\n",
              "management                   0\n",
              "management_group             0\n",
              "payment                      0\n",
              "payment_type                 0\n",
              "water_quality                0\n",
              "quality_group                0\n",
              "quantity                     0\n",
              "quantity_group               0\n",
              "source                       0\n",
              "source_type                  0\n",
              "source_class                 0\n",
              "waterpoint_type              0\n",
              "waterpoint_type_group        0\n",
              "dtype: int64"
            ]
          },
          "metadata": {},
          "execution_count": 12
        }
      ]
    },
    {
      "cell_type": "code",
      "metadata": {
        "colab": {
          "base_uri": "https://localhost:8080/"
        },
        "id": "bnzNtza59RoW",
        "outputId": "68e2cea2-789e-4493-ca64-e81ba685a6c4"
      },
      "source": [
        "train_df[\"gps_height\"].fillna(train_df.groupby(['region', 'district_code'])[\"gps_height\"].transform(\"mean\"), inplace=True)\n",
        "train_df[\"gps_height\"].fillna(train_df.groupby(['region'])[\"gps_height\"].transform(\"mean\"), inplace=True)\n",
        "train_df[\"gps_height\"].fillna(train_df[\"gps_height\"].mean(), inplace=True)\n",
        "train_df[\"population\"].fillna(train_df.groupby(['region', 'district_code'])[\"population\"].transform(\"median\"), inplace=True)\n",
        "train_df[\"population\"].fillna(train_df.groupby(['region'])[\"population\"].transform(\"median\"), inplace=True)\n",
        "train_df[\"population\"].fillna(train_df[\"population\"].median(), inplace=True)\n",
        "train_df[\"amount_tsh\"].fillna(train_df.groupby(['region', 'district_code'])[\"amount_tsh\"].transform(\"median\"), inplace=True)\n",
        "train_df[\"amount_tsh\"].fillna(train_df.groupby(['region'])[\"amount_tsh\"].transform(\"median\"), inplace=True)\n",
        "train_df[\"amount_tsh\"].fillna(train_df[\"amount_tsh\"].median(), inplace=True)\n",
        "train_df.isnull().sum()"
      ],
      "execution_count": null,
      "outputs": [
        {
          "output_type": "execute_result",
          "data": {
            "text/plain": [
              "id                           0\n",
              "amount_tsh                   0\n",
              "date_recorded                0\n",
              "funder                    2793\n",
              "gps_height                   0\n",
              "installer                 2807\n",
              "longitude                    0\n",
              "latitude                     0\n",
              "wpt_name                     0\n",
              "num_private                  0\n",
              "basin                        0\n",
              "subvillage                 287\n",
              "region                       0\n",
              "region_code                  0\n",
              "district_code                0\n",
              "lga                          0\n",
              "ward                         0\n",
              "population                   0\n",
              "public_meeting            2491\n",
              "recorded_by                  0\n",
              "scheme_management         2832\n",
              "scheme_name              21110\n",
              "permit                    2336\n",
              "construction_year            0\n",
              "extraction_type              0\n",
              "extraction_type_group        0\n",
              "extraction_type_class        0\n",
              "management                   0\n",
              "management_group             0\n",
              "payment                      0\n",
              "payment_type                 0\n",
              "water_quality                0\n",
              "quality_group                0\n",
              "quantity                     0\n",
              "quantity_group               0\n",
              "source                       0\n",
              "source_type                  0\n",
              "source_class                 0\n",
              "waterpoint_type              0\n",
              "waterpoint_type_group        0\n",
              "status_group                 0\n",
              "geometry                     0\n",
              "dtype: int64"
            ]
          },
          "metadata": {},
          "execution_count": 13
        }
      ]
    },
    {
      "cell_type": "code",
      "metadata": {
        "colab": {
          "base_uri": "https://localhost:8080/"
        },
        "id": "DSHV1Qgy9wXl",
        "outputId": "84b25ebd-fbba-4249-cfad-4634b8b4a887"
      },
      "source": [
        "test_df[\"gps_height\"].fillna(test_df.groupby(['region', 'district_code'])[\"gps_height\"].transform(\"mean\"), inplace=True)\n",
        "test_df[\"gps_height\"].fillna(test_df.groupby(['region'])[\"gps_height\"].transform(\"mean\"), inplace=True)\n",
        "test_df[\"gps_height\"].fillna(test_df[\"gps_height\"].mean(), inplace=True)\n",
        "test_df[\"population\"].fillna(test_df.groupby(['region', 'district_code'])[\"population\"].transform(\"median\"), inplace=True)\n",
        "test_df[\"population\"].fillna(test_df.groupby(['region'])[\"population\"].transform(\"median\"), inplace=True)\n",
        "test_df[\"population\"].fillna(test_df[\"population\"].median(), inplace=True)\n",
        "test_df[\"amount_tsh\"].fillna(test_df.groupby(['region', 'district_code'])[\"amount_tsh\"].transform(\"median\"), inplace=True)\n",
        "test_df[\"amount_tsh\"].fillna(test_df.groupby(['region'])[\"amount_tsh\"].transform(\"median\"), inplace=True)\n",
        "test_df[\"amount_tsh\"].fillna(test_df[\"amount_tsh\"].median(), inplace=True)\n",
        "test_df.isnull().sum()"
      ],
      "execution_count": null,
      "outputs": [
        {
          "output_type": "execute_result",
          "data": {
            "text/plain": [
              "Unnamed: 0                  0\n",
              "id                          0\n",
              "amount_tsh                  0\n",
              "date_recorded               0\n",
              "funder                    842\n",
              "gps_height                  0\n",
              "installer                 848\n",
              "longitude                   0\n",
              "latitude                    0\n",
              "wpt_name                    0\n",
              "num_private                 0\n",
              "basin                       0\n",
              "subvillage                 84\n",
              "region                      0\n",
              "region_code                 0\n",
              "district_code               0\n",
              "lga                         0\n",
              "ward                        0\n",
              "population                  0\n",
              "public_meeting            843\n",
              "recorded_by                 0\n",
              "scheme_management        1045\n",
              "scheme_name              7056\n",
              "permit                    720\n",
              "construction_year           0\n",
              "extraction_type             0\n",
              "extraction_type_group       0\n",
              "extraction_type_class       0\n",
              "management                  0\n",
              "management_group            0\n",
              "payment                     0\n",
              "payment_type                0\n",
              "water_quality               0\n",
              "quality_group               0\n",
              "quantity                    0\n",
              "quantity_group              0\n",
              "source                      0\n",
              "source_type                 0\n",
              "source_class                0\n",
              "waterpoint_type             0\n",
              "waterpoint_type_group       0\n",
              "dtype: int64"
            ]
          },
          "metadata": {},
          "execution_count": 14
        }
      ]
    },
    {
      "cell_type": "code",
      "metadata": {
        "colab": {
          "base_uri": "https://localhost:8080/"
        },
        "id": "EnomrXfAALuT",
        "outputId": "ab60a9e5-1bd5-4791-851c-e3049e37f858"
      },
      "source": [
        "features=['amount_tsh', 'gps_height', 'population']\n",
        "scaler = MinMaxScaler(feature_range=(0,20))\n",
        "train_df[features] = scaler.fit_transform(train_df[features])\n",
        "train_df[features].head(20)\n",
        "train_df.isnull().sum()"
      ],
      "execution_count": null,
      "outputs": [
        {
          "output_type": "execute_result",
          "data": {
            "text/plain": [
              "id                           0\n",
              "amount_tsh                   0\n",
              "date_recorded                0\n",
              "funder                    2793\n",
              "gps_height                   0\n",
              "installer                 2807\n",
              "longitude                    0\n",
              "latitude                     0\n",
              "wpt_name                     0\n",
              "num_private                  0\n",
              "basin                        0\n",
              "subvillage                 287\n",
              "region                       0\n",
              "region_code                  0\n",
              "district_code                0\n",
              "lga                          0\n",
              "ward                         0\n",
              "population                   0\n",
              "public_meeting            2491\n",
              "recorded_by                  0\n",
              "scheme_management         2832\n",
              "scheme_name              21110\n",
              "permit                    2336\n",
              "construction_year            0\n",
              "extraction_type              0\n",
              "extraction_type_group        0\n",
              "extraction_type_class        0\n",
              "management                   0\n",
              "management_group             0\n",
              "payment                      0\n",
              "payment_type                 0\n",
              "water_quality                0\n",
              "quality_group                0\n",
              "quantity                     0\n",
              "quantity_group               0\n",
              "source                       0\n",
              "source_type                  0\n",
              "source_class                 0\n",
              "waterpoint_type              0\n",
              "waterpoint_type_group        0\n",
              "status_group                 0\n",
              "geometry                     0\n",
              "dtype: int64"
            ]
          },
          "metadata": {},
          "execution_count": 15
        }
      ]
    },
    {
      "cell_type": "code",
      "metadata": {
        "colab": {
          "base_uri": "https://localhost:8080/"
        },
        "id": "y9tFED9hAQwd",
        "outputId": "056288b4-533e-4053-afde-7900ec1e43af"
      },
      "source": [
        "features=['amount_tsh', 'gps_height', 'population']\n",
        "scaler = MinMaxScaler(feature_range=(0,20))\n",
        "test_df[features] = scaler.fit_transform(test_df[features])\n",
        "test_df[features].head(20)\n",
        "test_df.isnull().sum()"
      ],
      "execution_count": null,
      "outputs": [
        {
          "output_type": "execute_result",
          "data": {
            "text/plain": [
              "Unnamed: 0                  0\n",
              "id                          0\n",
              "amount_tsh                  0\n",
              "date_recorded               0\n",
              "funder                    842\n",
              "gps_height                  0\n",
              "installer                 848\n",
              "longitude                   0\n",
              "latitude                    0\n",
              "wpt_name                    0\n",
              "num_private                 0\n",
              "basin                       0\n",
              "subvillage                 84\n",
              "region                      0\n",
              "region_code                 0\n",
              "district_code               0\n",
              "lga                         0\n",
              "ward                        0\n",
              "population                  0\n",
              "public_meeting            843\n",
              "recorded_by                 0\n",
              "scheme_management        1045\n",
              "scheme_name              7056\n",
              "permit                    720\n",
              "construction_year           0\n",
              "extraction_type             0\n",
              "extraction_type_group       0\n",
              "extraction_type_class       0\n",
              "management                  0\n",
              "management_group            0\n",
              "payment                     0\n",
              "payment_type                0\n",
              "water_quality               0\n",
              "quality_group               0\n",
              "quantity                    0\n",
              "quantity_group              0\n",
              "source                      0\n",
              "source_type                 0\n",
              "source_class                0\n",
              "waterpoint_type             0\n",
              "waterpoint_type_group       0\n",
              "dtype: int64"
            ]
          },
          "metadata": {},
          "execution_count": 16
        }
      ]
    },
    {
      "cell_type": "markdown",
      "metadata": {
        "id": "AFVkRE56AfCk"
      },
      "source": [
        "Visualising some plots with status groups. Checking the counts."
      ]
    },
    {
      "cell_type": "code",
      "metadata": {
        "colab": {
          "base_uri": "https://localhost:8080/",
          "height": 512
        },
        "id": "y9uhXEf7AevO",
        "outputId": "ba235bf9-ada5-45e4-951d-580ef7a85962"
      },
      "source": [
        "plt.figure(figsize=(13,6))\n",
        "sns.countplot(train_df.status_group, palette = 'Set3')\n",
        "train_df.status_group.value_counts()"
      ],
      "execution_count": null,
      "outputs": [
        {
          "output_type": "stream",
          "name": "stderr",
          "text": [
            "/usr/local/lib/python3.7/dist-packages/seaborn/_decorators.py:43: FutureWarning: Pass the following variable as a keyword arg: x. From version 0.12, the only valid positional argument will be `data`, and passing other arguments without an explicit keyword will result in an error or misinterpretation.\n",
            "  FutureWarning\n"
          ]
        },
        {
          "output_type": "execute_result",
          "data": {
            "text/plain": [
              "functional                 24194\n",
              "non functional             17118\n",
              "functional needs repair     3238\n",
              "Name: status_group, dtype: int64"
            ]
          },
          "metadata": {},
          "execution_count": 17
        },
        {
          "output_type": "display_data",
          "data": {
            "image/png": "[encoded data removed]",
            "text/plain": [
              "<Figure size 936x432 with 1 Axes>"
            ]
          },
          "metadata": {
            "needs_background": "light"
          }
        }
      ]
    },
    {
      "cell_type": "markdown",
      "metadata": {
        "id": "uhkdUALqA5Nt"
      },
      "source": [
        "Let us check with water quality first and how many are functional."
      ]
    },
    {
      "cell_type": "code",
      "metadata": {
        "colab": {
          "base_uri": "https://localhost:8080/",
          "height": 462
        },
        "id": "g5Vt8JnYBF3Y",
        "outputId": "beabdf29-59bd-4738-a94d-7cc43392d8d2"
      },
      "source": [
        "plt.figure(figsize=(14,6))\n",
        "sns.countplot(data=train_df,x='water_quality',hue='status_group')\n",
        "plt.legend(bbox_to_anchor=(1.05, 1), loc=2, borderaxespad=0.)\n",
        "train_df.water_quality.value_counts()"
      ],
      "execution_count": null,
      "outputs": [
        {
          "output_type": "execute_result",
          "data": {
            "text/plain": [
              "soft                  38093\n",
              "salty                  3668\n",
              "unknown                1397\n",
              "milky                   606\n",
              "coloured                364\n",
              "salty abandoned         264\n",
              "fluoride                147\n",
              "fluoride abandoned       11\n",
              "Name: water_quality, dtype: int64"
            ]
          },
          "metadata": {},
          "execution_count": 19
        },
        {
          "output_type": "display_data",
          "data": {
            "image/png": "[encoded data removed]",
            "text/plain": [
              "<Figure size 1008x432 with 1 Axes>"
            ]
          },
          "metadata": {
            "needs_background": "light"
          }
        }
      ]
    },
    {
      "cell_type": "markdown",
      "metadata": {
        "id": "24yrhQ9jBlLT"
      },
      "source": [
        "Wherever the water is soft then there is a very high probability of the pumps being functional, while if it is salty then there are almost equal probability of functional and non-functional."
      ]
    },
    {
      "cell_type": "code",
      "metadata": {
        "colab": {
          "base_uri": "https://localhost:8080/",
          "height": 342
        },
        "id": "D8B9AG59Bzvk",
        "outputId": "1b0176bc-5e13-41c3-de82-27bcdd364882"
      },
      "source": [
        "plt.figure(figsize=(24, 9))\n",
        "sns.countplot(data=train_df,x='region',hue='status_group')"
      ],
      "execution_count": null,
      "outputs": [
        {
          "output_type": "execute_result",
          "data": {
            "text/plain": [
              "<matplotlib.axes._subplots.AxesSubplot at 0x7fdc92bd2d10>"
            ]
          },
          "metadata": {},
          "execution_count": 20
        },
        {
          "output_type": "display_data",
          "data": {
            "image/png": "[encoded data removed]",
            "text/plain": [
              "<Figure size 1728x648 with 1 Axes>"
            ]
          },
          "metadata": {
            "needs_background": "light"
          }
        }
      ]
    },
    {
      "cell_type": "markdown",
      "metadata": {
        "id": "VCdBrIq4CV6O"
      },
      "source": [
        "Amount of functional pumps is distributed quite unevenly some have higher probability to have non-functional pumps, pumps needing repair don't seem to be much dominance. Checking the population dependence, we have "
      ]
    },
    {
      "cell_type": "code",
      "metadata": {
        "colab": {
          "base_uri": "https://localhost:8080/",
          "height": 793
        },
        "id": "ZAVNnIG9Crc2",
        "outputId": "074231e2-6508-4fbf-d19f-55f850bea9aa"
      },
      "source": [
        "splot=sns.FacetGrid(train_df, hue='status_group',size=14).map(sns.kdeplot, 'population', shade=True).add_legend()\n",
        "splot.set(xscale=\"log\")"
      ],
      "execution_count": null,
      "outputs": [
        {
          "output_type": "stream",
          "name": "stderr",
          "text": [
            "/usr/local/lib/python3.7/dist-packages/seaborn/axisgrid.py:337: UserWarning: The `size` parameter has been renamed to `height`; please update your code.\n",
            "  warnings.warn(msg, UserWarning)\n"
          ]
        },
        {
          "output_type": "execute_result",
          "data": {
            "text/plain": [
              "<seaborn.axisgrid.FacetGrid at 0x7fdca2a0ced0>"
            ]
          },
          "metadata": {},
          "execution_count": 21
        },
        {
          "output_type": "display_data",
          "data": {
            "image/png": "[encoded data removed]",
            "text/plain": [
              "<Figure size 1159.88x1008 with 1 Axes>"
            ]
          },
          "metadata": {
            "needs_background": "light"
          }
        }
      ]
    },
    {
      "cell_type": "markdown",
      "metadata": {
        "id": "IUaF9fkQEyPX"
      },
      "source": [
        "As population increases we have more functional pumps. Let us check the construction year variable."
      ]
    },
    {
      "cell_type": "code",
      "metadata": {
        "colab": {
          "base_uri": "https://localhost:8080/",
          "height": 760
        },
        "id": "asEE1THNGHgc",
        "outputId": "3f43b93b-d669-4abf-a13e-e23beba9f26b"
      },
      "source": [
        "(sns.FacetGrid(train_df, hue='status_group',size=10).map(sns.kdeplot, 'construction_year', shade=True).add_legend())"
      ],
      "execution_count": null,
      "outputs": [
        {
          "output_type": "stream",
          "name": "stderr",
          "text": [
            "/usr/local/lib/python3.7/dist-packages/seaborn/axisgrid.py:337: UserWarning: The `size` parameter has been renamed to `height`; please update your code.\n",
            "  warnings.warn(msg, UserWarning)\n"
          ]
        },
        {
          "output_type": "execute_result",
          "data": {
            "text/plain": [
              "<seaborn.axisgrid.FacetGrid at 0x7fdc927e0890>"
            ]
          },
          "metadata": {},
          "execution_count": 22
        },
        {
          "output_type": "display_data",
          "data": {
            "image/png": "[encoded data removed]",
            "text/plain": [
              "<Figure size 871.875x720 with 1 Axes>"
            ]
          },
          "metadata": {
            "needs_background": "light"
          }
        }
      ]
    },
    {
      "cell_type": "markdown",
      "metadata": {
        "id": "DfEQfBszGzFh"
      },
      "source": [
        "We can see a number of variables have a year of construction set to 0, we can correct this later by imputing some mean value. The rest of the observation years are close to 2000. Similarly with two other variables like the lattitude and longitude also have 0 values, these are like missing values but they are hidden so we have to replace 0 with a mean value."
      ]
    },
    {
      "cell_type": "code",
      "metadata": {
        "id": "-8EIy7l2GMwi"
      },
      "source": [
        "train_df['longitude'].replace(0.0, np.nan, inplace=True)\n",
        "train_df['latitude'].replace(0.0, np.nan, inplace=True)\n",
        "train_df['construction_year'].replace(0.0, np.nan, inplace=True)"
      ],
      "execution_count": null,
      "outputs": []
    },
    {
      "cell_type": "code",
      "metadata": {
        "colab": {
          "base_uri": "https://localhost:8080/"
        },
        "id": "qgo3I-4BH6jS",
        "outputId": "23ab75ca-542b-483a-e0b2-b0316ba8bf65"
      },
      "source": [
        "train_df.info()"
      ],
      "execution_count": null,
      "outputs": [
        {
          "output_type": "stream",
          "name": "stdout",
          "text": [
            "<class 'pandas.core.frame.DataFrame'>\n",
            "RangeIndex: 44550 entries, 0 to 44549\n",
            "Data columns (total 42 columns):\n",
            " #   Column                 Non-Null Count  Dtype   \n",
            "---  ------                 --------------  -----   \n",
            " 0   id                     44550 non-null  int64   \n",
            " 1   amount_tsh             44550 non-null  float64 \n",
            " 2   date_recorded          44550 non-null  object  \n",
            " 3   funder                 41757 non-null  object  \n",
            " 4   gps_height             44550 non-null  float64 \n",
            " 5   installer              41743 non-null  object  \n",
            " 6   longitude              43196 non-null  float64 \n",
            " 7   latitude               44550 non-null  float64 \n",
            " 8   wpt_name               44550 non-null  object  \n",
            " 9   num_private            44550 non-null  int64   \n",
            " 10  basin                  44550 non-null  object  \n",
            " 11  subvillage             44263 non-null  object  \n",
            " 12  region                 44550 non-null  object  \n",
            " 13  region_code            44550 non-null  int64   \n",
            " 14  district_code          44550 non-null  int64   \n",
            " 15  lga                    44550 non-null  object  \n",
            " 16  ward                   44550 non-null  object  \n",
            " 17  population             44550 non-null  float64 \n",
            " 18  public_meeting         42059 non-null  object  \n",
            " 19  recorded_by            44550 non-null  object  \n",
            " 20  scheme_management      41718 non-null  object  \n",
            " 21  scheme_name            23440 non-null  object  \n",
            " 22  permit                 42214 non-null  object  \n",
            " 23  construction_year      28909 non-null  float64 \n",
            " 24  extraction_type        44550 non-null  object  \n",
            " 25  extraction_type_group  44550 non-null  object  \n",
            " 26  extraction_type_class  44550 non-null  object  \n",
            " 27  management             44550 non-null  object  \n",
            " 28  management_group       44550 non-null  object  \n",
            " 29  payment                44550 non-null  object  \n",
            " 30  payment_type           44550 non-null  object  \n",
            " 31  water_quality          44550 non-null  object  \n",
            " 32  quality_group          44550 non-null  object  \n",
            " 33  quantity               44550 non-null  object  \n",
            " 34  quantity_group         44550 non-null  object  \n",
            " 35  source                 44550 non-null  object  \n",
            " 36  source_type            44550 non-null  object  \n",
            " 37  source_class           44550 non-null  object  \n",
            " 38  waterpoint_type        44550 non-null  object  \n",
            " 39  waterpoint_type_group  44550 non-null  object  \n",
            " 40  status_group           44550 non-null  object  \n",
            " 41  geometry               44550 non-null  geometry\n",
            "dtypes: float64(6), geometry(1), int64(4), object(31)\n",
            "memory usage: 14.3+ MB\n"
          ]
        }
      ]
    },
    {
      "cell_type": "code",
      "metadata": {
        "id": "Oio0gJBTH0I7"
      },
      "source": [
        "test_df['longitude'].replace(0.0, np.nan, inplace=True)\n",
        "test_df['latitude'].replace(0.0, np.nan, inplace=True)\n",
        "test_df['construction_year'].replace(0.0, np.nan, inplace=True)"
      ],
      "execution_count": null,
      "outputs": []
    },
    {
      "cell_type": "code",
      "metadata": {
        "colab": {
          "base_uri": "https://localhost:8080/"
        },
        "id": "s6NfQrd4H6GP",
        "outputId": "b2ba1001-bdbd-4852-8588-48a373f93fef"
      },
      "source": [
        "test_df.info()"
      ],
      "execution_count": null,
      "outputs": [
        {
          "output_type": "stream",
          "name": "stdout",
          "text": [
            "<class 'pandas.core.frame.DataFrame'>\n",
            "RangeIndex: 14850 entries, 0 to 14849\n",
            "Data columns (total 41 columns):\n",
            " #   Column                 Non-Null Count  Dtype  \n",
            "---  ------                 --------------  -----  \n",
            " 0   Unnamed: 0             14850 non-null  int64  \n",
            " 1   id                     14850 non-null  int64  \n",
            " 2   amount_tsh             14850 non-null  float64\n",
            " 3   date_recorded          14850 non-null  object \n",
            " 4   funder                 14008 non-null  object \n",
            " 5   gps_height             14850 non-null  float64\n",
            " 6   installer              14002 non-null  object \n",
            " 7   longitude              14850 non-null  float64\n",
            " 8   latitude               14850 non-null  float64\n",
            " 9   wpt_name               14850 non-null  object \n",
            " 10  num_private            14850 non-null  int64  \n",
            " 11  basin                  14850 non-null  object \n",
            " 12  subvillage             14766 non-null  object \n",
            " 13  region                 14850 non-null  object \n",
            " 14  region_code            14850 non-null  int64  \n",
            " 15  district_code          14850 non-null  int64  \n",
            " 16  lga                    14850 non-null  object \n",
            " 17  ward                   14850 non-null  object \n",
            " 18  population             14850 non-null  float64\n",
            " 19  public_meeting         14007 non-null  object \n",
            " 20  recorded_by            14850 non-null  object \n",
            " 21  scheme_management      13805 non-null  object \n",
            " 22  scheme_name            7794 non-null   object \n",
            " 23  permit                 14130 non-null  object \n",
            " 24  construction_year      14850 non-null  int64  \n",
            " 25  extraction_type        14850 non-null  object \n",
            " 26  extraction_type_group  14850 non-null  object \n",
            " 27  extraction_type_class  14850 non-null  object \n",
            " 28  management             14850 non-null  object \n",
            " 29  management_group       14850 non-null  object \n",
            " 30  payment                14850 non-null  object \n",
            " 31  payment_type           14850 non-null  object \n",
            " 32  water_quality          14850 non-null  object \n",
            " 33  quality_group          14850 non-null  object \n",
            " 34  quantity               14850 non-null  object \n",
            " 35  quantity_group         14850 non-null  object \n",
            " 36  source                 14850 non-null  object \n",
            " 37  source_type            14850 non-null  object \n",
            " 38  source_class           14850 non-null  object \n",
            " 39  waterpoint_type        14850 non-null  object \n",
            " 40  waterpoint_type_group  14850 non-null  object \n",
            "dtypes: float64(5), int64(6), object(30)\n",
            "memory usage: 4.6+ MB\n"
          ]
        }
      ]
    },
    {
      "cell_type": "code",
      "metadata": {
        "id": "egHnI_NpQC9Y"
      },
      "source": [
        "train_df.drop('geometry', axis=1, inplace=True)"
      ],
      "execution_count": null,
      "outputs": []
    },
    {
      "cell_type": "markdown",
      "metadata": {
        "id": "aLj-BCY3IIWI"
      },
      "source": [
        "We will use the fillna function to fill the Nan values which we used to replace the 0s in longitude,lattitude and construction year."
      ]
    },
    {
      "cell_type": "code",
      "metadata": {
        "colab": {
          "base_uri": "https://localhost:8080/"
        },
        "id": "2ZSeQa6HIFlo",
        "outputId": "5c25fb8a-55de-40b1-cbf8-cc48c645ece3"
      },
      "source": [
        "train_df[\"latitude\"].fillna(train_df.groupby(['region', 'district_code'])[\"latitude\"].transform(\"mean\"), inplace=True)\n",
        "train_df[\"longitude\"].fillna(train_df.groupby(['region', 'district_code'])[\"longitude\"].transform(\"mean\"), inplace=True)\n",
        "train_df[\"longitude\"].fillna(train_df.groupby(['region'])[\"longitude\"].transform(\"mean\"), inplace=True)\n",
        "train_df[\"construction_year\"].fillna(train_df.groupby(['region', 'district_code'])[\"construction_year\"].transform(\"median\"), inplace=True)\n",
        "train_df[\"construction_year\"].fillna(train_df.groupby(['region'])[\"construction_year\"].transform(\"median\"), inplace=True)\n",
        "train_df[\"construction_year\"].fillna(train_df.groupby(['district_code'])[\"construction_year\"].transform(\"median\"), inplace=True)\n",
        "train_df[\"construction_year\"].fillna(train_df[\"construction_year\"].median(), inplace=True)\n",
        "print(train_df.isnull().sum())"
      ],
      "execution_count": null,
      "outputs": [
        {
          "output_type": "stream",
          "name": "stdout",
          "text": [
            "id                           0\n",
            "amount_tsh                   0\n",
            "date_recorded                0\n",
            "funder                    2793\n",
            "gps_height                   0\n",
            "installer                 2807\n",
            "longitude                    0\n",
            "latitude                     0\n",
            "wpt_name                     0\n",
            "num_private                  0\n",
            "basin                        0\n",
            "subvillage                 287\n",
            "region                       0\n",
            "region_code                  0\n",
            "district_code                0\n",
            "lga                          0\n",
            "ward                         0\n",
            "population                   0\n",
            "public_meeting            2491\n",
            "recorded_by                  0\n",
            "scheme_management         2832\n",
            "scheme_name              21110\n",
            "permit                    2336\n",
            "construction_year            0\n",
            "extraction_type              0\n",
            "extraction_type_group        0\n",
            "extraction_type_class        0\n",
            "management                   0\n",
            "management_group             0\n",
            "payment                      0\n",
            "payment_type                 0\n",
            "water_quality                0\n",
            "quality_group                0\n",
            "quantity                     0\n",
            "quantity_group               0\n",
            "source                       0\n",
            "source_type                  0\n",
            "source_class                 0\n",
            "waterpoint_type              0\n",
            "waterpoint_type_group        0\n",
            "status_group                 0\n",
            "dtype: int64\n"
          ]
        }
      ]
    },
    {
      "cell_type": "code",
      "metadata": {
        "colab": {
          "base_uri": "https://localhost:8080/"
        },
        "id": "-RcE1I17IUOu",
        "outputId": "1c5cfb34-43d4-4449-eb0c-d8d031553103"
      },
      "source": [
        "test_df[\"latitude\"].fillna(test_df.groupby(['region', 'district_code'])[\"latitude\"].transform(\"mean\"), inplace=True)\n",
        "test_df[\"longitude\"].fillna(test_df.groupby(['region', 'district_code'])[\"longitude\"].transform(\"mean\"), inplace=True)\n",
        "test_df[\"longitude\"].fillna(test_df.groupby(['region'])[\"longitude\"].transform(\"mean\"), inplace=True)\n",
        "test_df[\"construction_year\"].fillna(test_df.groupby(['region', 'district_code'])[\"construction_year\"].transform(\"median\"), inplace=True)\n",
        "test_df[\"construction_year\"].fillna(test_df.groupby(['region'])[\"construction_year\"].transform(\"median\"), inplace=True)\n",
        "test_df[\"construction_year\"].fillna(test_df.groupby(['district_code'])[\"construction_year\"].transform(\"median\"), inplace=True)\n",
        "test_df[\"construction_year\"].fillna(test_df[\"construction_year\"].median(), inplace=True)\n",
        "print(test_df.isnull().sum())"
      ],
      "execution_count": null,
      "outputs": [
        {
          "output_type": "stream",
          "name": "stdout",
          "text": [
            "Unnamed: 0                  0\n",
            "id                          0\n",
            "amount_tsh                  0\n",
            "date_recorded               0\n",
            "funder                    842\n",
            "gps_height                  0\n",
            "installer                 848\n",
            "longitude                   0\n",
            "latitude                    0\n",
            "wpt_name                    0\n",
            "num_private                 0\n",
            "basin                       0\n",
            "subvillage                 84\n",
            "region                      0\n",
            "region_code                 0\n",
            "district_code               0\n",
            "lga                         0\n",
            "ward                        0\n",
            "population                  0\n",
            "public_meeting            843\n",
            "recorded_by                 0\n",
            "scheme_management        1045\n",
            "scheme_name              7056\n",
            "permit                    720\n",
            "construction_year           0\n",
            "extraction_type             0\n",
            "extraction_type_group       0\n",
            "extraction_type_class       0\n",
            "management                  0\n",
            "management_group            0\n",
            "payment                     0\n",
            "payment_type                0\n",
            "water_quality               0\n",
            "quality_group               0\n",
            "quantity                    0\n",
            "quantity_group              0\n",
            "source                      0\n",
            "source_type                 0\n",
            "source_class                0\n",
            "waterpoint_type             0\n",
            "waterpoint_type_group       0\n",
            "dtype: int64\n"
          ]
        }
      ]
    },
    {
      "cell_type": "markdown",
      "metadata": {
        "id": "IJyRAvXvItPj"
      },
      "source": [
        "The older a waterpoint is the more likely it will be non-functional and may need to be replaced. We can engineer an Age variable and try to find the difference between the year the pump was constructed and the year the record was made. "
      ]
    },
    {
      "cell_type": "code",
      "metadata": {
        "id": "FBuJKq1tbwbl",
        "colab": {
          "base_uri": "https://localhost:8080/"
        },
        "outputId": "609dec1a-e2a8-45dc-c54a-39144ecc5617"
      },
      "source": [
        "train_df['date_recorded'] = pd.to_datetime(train_df['date_recorded'])\n",
        "train_df.date_recorded.head(5)\n",
        "print(train_df.date_recorded.dt.year.head(5))\n",
        "print(train_df.construction_year.head(5))\n",
        "#This function grabs the year\n",
        "train_df['Age'] = train_df.date_recorded.dt.year - train_df.construction_year\n",
        "train_df.Age.head(5)"
      ],
      "execution_count": null,
      "outputs": [
        {
          "output_type": "stream",
          "name": "stdout",
          "text": [
            "0    2013\n",
            "1    2011\n",
            "2    2013\n",
            "3    2011\n",
            "4    2013\n",
            "Name: date_recorded, dtype: int64\n",
            "0    2008.0\n",
            "1    1984.0\n",
            "2    2002.0\n",
            "3    2000.0\n",
            "4    2007.0\n",
            "Name: construction_year, dtype: float64\n"
          ]
        },
        {
          "output_type": "execute_result",
          "data": {
            "text/plain": [
              "0     5.0\n",
              "1    27.0\n",
              "2    11.0\n",
              "3    11.0\n",
              "4     6.0\n",
              "Name: Age, dtype: float64"
            ]
          },
          "metadata": {},
          "execution_count": 30
        }
      ]
    },
    {
      "cell_type": "code",
      "metadata": {
        "colab": {
          "base_uri": "https://localhost:8080/"
        },
        "id": "4HJhBHGiJZZU",
        "outputId": "2c6ae505-113b-4b75-8873-7c36aeb53e01"
      },
      "source": [
        "test_df['date_recorded'] = pd.to_datetime(test_df['date_recorded'])\n",
        "test_df.date_recorded.head(5)\n",
        "print(test_df.date_recorded.dt.year.head(5))\n",
        "print(test_df.construction_year.head(5))\n",
        "#This function grabs the year\n",
        "test_df['Age'] = test_df.date_recorded.dt.year - test_df.construction_year\n",
        "test_df.Age.head(5)"
      ],
      "execution_count": null,
      "outputs": [
        {
          "output_type": "stream",
          "name": "stdout",
          "text": [
            "0    2011\n",
            "1    2011\n",
            "2    2011\n",
            "3    2011\n",
            "4    2011\n",
            "Name: date_recorded, dtype: int64\n",
            "0    2004.0\n",
            "1    1999.0\n",
            "2    1999.0\n",
            "3    1999.0\n",
            "4    1999.0\n",
            "Name: construction_year, dtype: float64\n"
          ]
        },
        {
          "output_type": "execute_result",
          "data": {
            "text/plain": [
              "0     7.0\n",
              "1    12.0\n",
              "2    12.0\n",
              "3    12.0\n",
              "4    12.0\n",
              "Name: Age, dtype: float64"
            ]
          },
          "metadata": {},
          "execution_count": 31
        }
      ]
    },
    {
      "cell_type": "code",
      "metadata": {
        "colab": {
          "base_uri": "https://localhost:8080/",
          "height": 791
        },
        "id": "JPM5krwQJiAl",
        "outputId": "aa568065-8fdc-4e8c-8da0-4be74ea6fb1c"
      },
      "source": [
        "(sns.FacetGrid(train_df, hue='status_group',size=14).map(sns.kdeplot, 'Age', shade=True).add_legend())"
      ],
      "execution_count": null,
      "outputs": [
        {
          "output_type": "stream",
          "name": "stderr",
          "text": [
            "/usr/local/lib/python3.7/dist-packages/seaborn/axisgrid.py:337: UserWarning: The `size` parameter has been renamed to `height`; please update your code.\n",
            "  warnings.warn(msg, UserWarning)\n"
          ]
        },
        {
          "output_type": "execute_result",
          "data": {
            "text/plain": [
              "<seaborn.axisgrid.FacetGrid at 0x7fdca74a0d50>"
            ]
          },
          "metadata": {},
          "execution_count": 32
        },
        {
          "output_type": "display_data",
          "data": {
            "image/png": "[encoded data removed]",
            "text/plain": [
              "<Figure size 1159.88x1008 with 1 Axes>"
            ]
          },
          "metadata": {
            "needs_background": "light"
          }
        }
      ]
    },
    {
      "cell_type": "markdown",
      "metadata": {
        "id": "OzfkEHgHJqhv"
      },
      "source": [
        "As more pumps age the more they need repair or they need to be replaced, this may turn out to be an important variable later. A number of features also are not very useful, for example the recorded_by tells us the agency that made the record which has just 1 unique value it can be dropped. Also num_private also seems to be not useful as it has only 0 has a unique value. We can drop that. "
      ]
    },
    {
      "cell_type": "code",
      "metadata": {
        "id": "THRHC6bALBMe"
      },
      "source": [
        "waste_features=['wpt_name','num_private','subvillage','region_code','recorded_by']\n",
        "train_df.drop(waste_features,axis=1,inplace=True)\n",
        "test_df.drop(waste_features,axis=1,inplace=True)"
      ],
      "execution_count": null,
      "outputs": []
    },
    {
      "cell_type": "markdown",
      "metadata": {
        "id": "OLjDKpBVLm0F"
      },
      "source": [
        "As stated earlier many features are having redundant columns we examine them and see how many levels are similar between these columns and drop a few leaving only one to avoid having redundant data and to make analysis easier with less number of and with important features."
      ]
    },
    {
      "cell_type": "code",
      "metadata": {
        "colab": {
          "base_uri": "https://localhost:8080/"
        },
        "id": "pH8N9nEsLXLa",
        "outputId": "a7448f4b-0c2f-43b0-e96c-fefeb040a84b"
      },
      "source": [
        "print(test_df.groupby(['management', 'management_group']).size() )\n",
        "print(train_df.groupby(['management', 'management_group']).size() )"
      ],
      "execution_count": null,
      "outputs": [
        {
          "output_type": "stream",
          "name": "stdout",
          "text": [
            "management        management_group\n",
            "company           commercial            173\n",
            "other             other                 222\n",
            "other - school    other                  29\n",
            "parastatal        parastatal            421\n",
            "private operator  commercial            486\n",
            "trust             commercial             16\n",
            "unknown           unknown               159\n",
            "vwc               user-group          10136\n",
            "water authority   commercial            227\n",
            "water board       user-group            712\n",
            "wua               user-group            628\n",
            "wug               user-group           1641\n",
            "dtype: int64\n",
            "management        management_group\n",
            "company           commercial            512\n",
            "other             other                 622\n",
            "other - school    other                  70\n",
            "parastatal        parastatal           1347\n",
            "private operator  commercial           1485\n",
            "trust             commercial             62\n",
            "unknown           unknown               402\n",
            "vwc               user-group          30371\n",
            "water authority   commercial            677\n",
            "water board       user-group           2221\n",
            "wua               user-group           1907\n",
            "wug               user-group           4874\n",
            "dtype: int64\n"
          ]
        }
      ]
    },
    {
      "cell_type": "code",
      "metadata": {
        "id": "Q2cBz1wRLn-f"
      },
      "source": [
        "train_df.drop('management_group',axis=1,inplace=True)\n",
        "test_df.drop('management_group',axis=1,inplace=True)"
      ],
      "execution_count": null,
      "outputs": []
    },
    {
      "cell_type": "markdown",
      "metadata": {
        "id": "GCWjIQpPRx2B"
      },
      "source": [
        "Similarly for some others"
      ]
    },
    {
      "cell_type": "code",
      "metadata": {
        "colab": {
          "base_uri": "https://localhost:8080/"
        },
        "id": "5pQs48m3LuGM",
        "outputId": "5da4333c-82d7-4858-c560-6dfffd866415"
      },
      "source": [
        "print(train_df.groupby(['extraction_type_group','extraction_type_class','extraction_type']).size())\n",
        "print(\"-------------------------------------------------------------------------------------------------\")\n",
        "print(train_df.groupby(['scheme_management', 'scheme_name']).size())\n",
        "print(\"-------------------------------------------------------------------------------------------------\")\n",
        "print(train_df.groupby(['payment', 'payment_type']).size())\n",
        "print(\"-------------------------------------------------------------------------------------------------\")\n",
        "print(train_df.groupby(['water_quality', 'quality_group']).size())\n",
        "print(\"-------------------------------------------------------------------------------------------------\")\n",
        "print(train_df.groupby(['quantity', 'quantity_group']).size())\n",
        "print(\"-------------------------------------------------------------------------------------------------\")\n",
        "print(train_df.groupby(['source', 'source_type', 'source_class']).size())\n",
        "print(\"-------------------------------------------------------------------------------------------------\")\n",
        "print(train_df.groupby(['waterpoint_type', 'waterpoint_type_group']).size())\n",
        "print(\"-------------------------------------------------------------------------------------------------\")\n",
        "print(train_df.groupby(['lga', 'ward','status_group']).size())"
      ],
      "execution_count": null,
      "outputs": [
        {
          "output_type": "stream",
          "name": "stdout",
          "text": [
            "extraction_type_group  extraction_type_class  extraction_type          \n",
            "afridev                handpump               afridev                       1339\n",
            "gravity                gravity                gravity                      20127\n",
            "india mark ii          handpump               india mark ii                 1768\n",
            "india mark iii         handpump               india mark iii                  77\n",
            "mono                   motorpump              mono                          2164\n",
            "nira/tanira            handpump               nira/tanira                   6130\n",
            "other                  other                  other                         4768\n",
            "other handpump         handpump               other - mkulima/shinyanga        2\n",
            "                                              other - play pump               65\n",
            "                                              other - swn 81                 177\n",
            "                                              walimi                          39\n",
            "other motorpump        motorpump              cemo                            70\n",
            "                                              climax                          26\n",
            "rope pump              rope pump              other - rope pump              335\n",
            "submersible            submersible            ksb                           1043\n",
            "                                              submersible                   3560\n",
            "swn 80                 handpump               swn 80                        2771\n",
            "wind-powered           wind-powered           windmill                        89\n",
            "dtype: int64\n",
            "-------------------------------------------------------------------------------------------------\n",
            "scheme_management  scheme_name              \n",
            "Company            BFFS                           1\n",
            "                   Bagamoyo Wate                 47\n",
            "                   Bagamoyo wate                152\n",
            "                   Borehole                       1\n",
            "                   Borehole drilling project      1\n",
            "                                               ... \n",
            "Water authority    World Vision                   6\n",
            "                   Yongoma                       14\n",
            "                   Zepalama                       3\n",
            "                   no scheme                      7\n",
            "                   pump                           2\n",
            "Length: 2831, dtype: int64\n",
            "-------------------------------------------------------------------------------------------------\n",
            "payment                payment_type\n",
            "never pay              never pay       19002\n",
            "other                  other             796\n",
            "pay annually           annually         2717\n",
            "pay monthly            monthly          6182\n",
            "pay per bucket         per bucket       6808\n",
            "pay when scheme fails  on failure       2941\n",
            "unknown                unknown          6104\n",
            "dtype: int64\n",
            "-------------------------------------------------------------------------------------------------\n",
            "water_quality       quality_group\n",
            "coloured            colored            364\n",
            "fluoride            fluoride           147\n",
            "fluoride abandoned  fluoride            11\n",
            "milky               milky              606\n",
            "salty               salty             3668\n",
            "salty abandoned     salty              264\n",
            "soft                good             38093\n",
            "unknown             unknown           1397\n",
            "dtype: int64\n",
            "-------------------------------------------------------------------------------------------------\n",
            "quantity      quantity_group\n",
            "dry           dry                4725\n",
            "enough        enough            24821\n",
            "insufficient  insufficient      11367\n",
            "seasonal      seasonal           3049\n",
            "unknown       unknown             588\n",
            "dtype: int64\n",
            "-------------------------------------------------------------------------------------------------\n",
            "source                source_type           source_class\n",
            "dam                   dam                   surface           489\n",
            "hand dtw              borehole              groundwater       652\n",
            "lake                  river/lake            surface           544\n",
            "machine dbh           borehole              groundwater      8282\n",
            "other                 other                 unknown           156\n",
            "rainwater harvesting  rainwater harvesting  surface          1739\n",
            "river                 river/lake            surface          7135\n",
            "shallow well          shallow well          groundwater     12618\n",
            "spring                spring                groundwater     12889\n",
            "unknown               other                 unknown            46\n",
            "dtype: int64\n",
            "-------------------------------------------------------------------------------------------------\n",
            "waterpoint_type              waterpoint_type_group\n",
            "cattle trough                cattle trough               90\n",
            "communal standpipe           communal standpipe       21452\n",
            "communal standpipe multiple  communal standpipe        4558\n",
            "dam                          dam                          5\n",
            "hand pump                    hand pump                13116\n",
            "improved spring              improved spring            590\n",
            "other                        other                     4739\n",
            "dtype: int64\n",
            "-------------------------------------------------------------------------------------------------\n",
            "lga           ward     status_group           \n",
            "Arusha Rural  Bangata  functional                 16\n",
            "                       functional needs repair     2\n",
            "                       non functional              9\n",
            "              Bwawani  functional                  9\n",
            "                       non functional             18\n",
            "                                                  ..\n",
            "Uyui          Ufuluma  non functional              8\n",
            "              Upuge    functional                  5\n",
            "                       non functional              8\n",
            "              Usagali  functional                  7\n",
            "                       non functional             12\n",
            "Length: 4868, dtype: int64\n"
          ]
        }
      ]
    },
    {
      "cell_type": "code",
      "metadata": {
        "id": "UJaQIAevN78S"
      },
      "source": [
        "train_df.drop('extraction_type_group',axis=1,inplace=True)\n",
        "test_df.drop('extraction_type_group',axis=1,inplace=True)\n",
        "train_df.drop('extraction_type_class',axis=1,inplace=True)\n",
        "test_df.drop('extraction_type_class',axis=1,inplace=True)\n",
        "train_df.drop('scheme_name',axis=1,inplace=True)\n",
        "test_df.drop('scheme_name',axis=1,inplace=True)\n",
        "train_df.drop('payment',axis=1,inplace=True)\n",
        "test_df.drop('payment',axis=1,inplace=True)\n",
        "train_df.drop('quality_group',axis=1,inplace=True)\n",
        "test_df.drop('quality_group',axis=1,inplace=True)\n",
        "train_df.drop('quantity_group',axis=1,inplace=True)\n",
        "test_df.drop('quantity_group',axis=1,inplace=True)\n",
        "train_df.drop('source_type',axis=1,inplace=True)\n",
        "test_df.drop('source_type',axis=1,inplace=True)\n",
        "train_df.drop('source_class',axis=1,inplace=True)\n",
        "test_df.drop('source_class',axis=1,inplace=True)\n",
        "train_df.drop('waterpoint_type_group',axis=1,inplace=True)\n",
        "test_df.drop('waterpoint_type_group',axis=1,inplace=True)\n",
        "train_df.drop('ward',axis=1,inplace=True)\n",
        "test_df.drop('ward',axis=1,inplace=True)\n",
        "train_df.drop('installer',axis=1,inplace=True)\n",
        "test_df.drop('installer',axis=1,inplace=True)\n",
        "train_df.drop('public_meeting', axis=1, inplace=True)\n",
        "train_df.drop('permit', axis=1, inplace=True)\n",
        "test_df.drop('public_meeting', axis=1, inplace=True)\n",
        "test_df.drop('permit', axis=1, inplace=True)"
      ],
      "execution_count": null,
      "outputs": []
    },
    {
      "cell_type": "code",
      "metadata": {
        "colab": {
          "base_uri": "https://localhost:8080/"
        },
        "id": "zMCnjAnbOMIh",
        "outputId": "6c734312-34f3-4b0e-f697-9865e7a69266"
      },
      "source": [
        "train_df.info()"
      ],
      "execution_count": null,
      "outputs": [
        {
          "output_type": "stream",
          "name": "stdout",
          "text": [
            "<class 'pandas.core.frame.DataFrame'>\n",
            "RangeIndex: 44550 entries, 0 to 44549\n",
            "Data columns (total 28 columns):\n",
            " #   Column             Non-Null Count  Dtype         \n",
            "---  ------             --------------  -----         \n",
            " 0   id                 44550 non-null  int64         \n",
            " 1   amount_tsh         44550 non-null  float64       \n",
            " 2   date_recorded      44550 non-null  datetime64[ns]\n",
            " 3   funder             41757 non-null  object        \n",
            " 4   gps_height         44550 non-null  float64       \n",
            " 5   longitude          44550 non-null  float64       \n",
            " 6   latitude           44550 non-null  float64       \n",
            " 7   wpt_name           44550 non-null  object        \n",
            " 8   num_private        44550 non-null  int64         \n",
            " 9   basin              44550 non-null  object        \n",
            " 10  subvillage         44263 non-null  object        \n",
            " 11  region             44550 non-null  object        \n",
            " 12  region_code        44550 non-null  int64         \n",
            " 13  district_code      44550 non-null  int64         \n",
            " 14  lga                44550 non-null  object        \n",
            " 15  population         44550 non-null  float64       \n",
            " 16  recorded_by        44550 non-null  object        \n",
            " 17  scheme_management  41718 non-null  object        \n",
            " 18  construction_year  44550 non-null  float64       \n",
            " 19  extraction_type    44550 non-null  object        \n",
            " 20  management         44550 non-null  object        \n",
            " 21  payment_type       44550 non-null  object        \n",
            " 22  water_quality      44550 non-null  object        \n",
            " 23  quantity           44550 non-null  object        \n",
            " 24  source             44550 non-null  object        \n",
            " 25  waterpoint_type    44550 non-null  object        \n",
            " 26  status_group       44550 non-null  object        \n",
            " 27  Age                44550 non-null  float64       \n",
            "dtypes: datetime64[ns](1), float64(7), int64(4), object(16)\n",
            "memory usage: 9.5+ MB\n"
          ]
        }
      ]
    },
    {
      "cell_type": "code",
      "metadata": {
        "colab": {
          "base_uri": "https://localhost:8080/"
        },
        "id": "S4bie4riOON8",
        "outputId": "d35b1a9d-36dd-462f-dc25-01c9f151dba2"
      },
      "source": [
        "test_df.info()"
      ],
      "execution_count": null,
      "outputs": [
        {
          "output_type": "stream",
          "name": "stdout",
          "text": [
            "<class 'pandas.core.frame.DataFrame'>\n",
            "RangeIndex: 14850 entries, 0 to 14849\n",
            "Data columns (total 28 columns):\n",
            " #   Column             Non-Null Count  Dtype         \n",
            "---  ------             --------------  -----         \n",
            " 0   Unnamed: 0         14850 non-null  int64         \n",
            " 1   id                 14850 non-null  int64         \n",
            " 2   amount_tsh         14850 non-null  float64       \n",
            " 3   date_recorded      14850 non-null  datetime64[ns]\n",
            " 4   funder             14008 non-null  object        \n",
            " 5   gps_height         14850 non-null  float64       \n",
            " 6   longitude          14850 non-null  float64       \n",
            " 7   latitude           14850 non-null  float64       \n",
            " 8   wpt_name           14850 non-null  object        \n",
            " 9   num_private        14850 non-null  int64         \n",
            " 10  basin              14850 non-null  object        \n",
            " 11  subvillage         14766 non-null  object        \n",
            " 12  region             14850 non-null  object        \n",
            " 13  region_code        14850 non-null  int64         \n",
            " 14  district_code      14850 non-null  int64         \n",
            " 15  lga                14850 non-null  object        \n",
            " 16  population         14850 non-null  float64       \n",
            " 17  recorded_by        14850 non-null  object        \n",
            " 18  scheme_management  13805 non-null  object        \n",
            " 19  construction_year  14850 non-null  float64       \n",
            " 20  extraction_type    14850 non-null  object        \n",
            " 21  management         14850 non-null  object        \n",
            " 22  payment_type       14850 non-null  object        \n",
            " 23  water_quality      14850 non-null  object        \n",
            " 24  quantity           14850 non-null  object        \n",
            " 25  source             14850 non-null  object        \n",
            " 26  waterpoint_type    14850 non-null  object        \n",
            " 27  Age                14850 non-null  float64       \n",
            "dtypes: datetime64[ns](1), float64(7), int64(5), object(15)\n",
            "memory usage: 3.2+ MB\n"
          ]
        }
      ]
    },
    {
      "cell_type": "markdown",
      "metadata": {
        "id": "ChumlBpQSKzi"
      },
      "source": [
        "To avoid any random capitalization "
      ]
    },
    {
      "cell_type": "code",
      "metadata": {
        "id": "_28XDqd4M4dD"
      },
      "source": [
        "train_df.waterpoint_type = train_df.waterpoint_type.str.lower()\n",
        "train_df.funder = train_df.funder.str.lower()\n",
        "train_df.basin =train_df.basin.str.lower()\n",
        "train_df.region =train_df.region.str.lower()\n",
        "train_df.source = train_df.source.str.lower()\n",
        "train_df.lga =train_df.lga.str.lower()\n",
        "train_df.management = train_df.management.str.lower()\n",
        "train_df.quantity = train_df.quantity.str.lower()\n",
        "train_df.water_quality = train_df.water_quality.str.lower()\n",
        "train_df.payment_type=train_df.payment_type.str.lower()\n",
        "train_df.extraction_type=train_df.extraction_type.str.lower()"
      ],
      "execution_count": null,
      "outputs": []
    },
    {
      "cell_type": "code",
      "metadata": {
        "id": "vP_hoa1EM5IC"
      },
      "source": [
        "test_df.waterpoint_type = test_df.waterpoint_type.str.lower()\n",
        "test_df.funder = test_df.funder.str.lower()\n",
        "test_df.basin =test_df.basin.str.lower()\n",
        "test_df.region = test_df.region.str.lower()\n",
        "test_df.source = test_df.source.str.lower()\n",
        "test_df.lga = test_df.lga.str.lower()\n",
        "test_df.management = test_df.management.str.lower()\n",
        "test_df.quantity =test_df.quantity.str.lower()\n",
        "test_df.water_quality = test_df.water_quality.str.lower()\n",
        "test_df.payment_type=test_df.payment_type.str.lower()\n",
        "test_df.extraction_type=test_df.extraction_type.str.lower()"
      ],
      "execution_count": null,
      "outputs": []
    },
    {
      "cell_type": "markdown",
      "metadata": {
        "id": "MUQXZcgWSS7b"
      },
      "source": [
        "Finally cleaning up some categorical variables and writing output to a csv fill that will be read in the modelling section for the training data"
      ]
    },
    {
      "cell_type": "code",
      "metadata": {
        "colab": {
          "base_uri": "https://localhost:8080/",
          "height": 1000
        },
        "id": "gX1vqWhoM9qs",
        "outputId": "94b3585d-76dc-463e-a764-d03bdf796dd7"
      },
      "source": [
        "train_df[\"funder\"].fillna(\"other\", inplace=True)\n",
        "train_df[\"scheme_management\"].fillna(\"other\", inplace=True)\n",
        "print(train_df.isnull().sum())\n",
        "train_df.drop('date_recorded', axis=1, inplace=True)\n",
        "train_df.drop('construction_year', axis=1, inplace=True)\n",
        "train_df.info()\n",
        "train_df.quantity.head(5)\n",
        "pd.DataFrame(train_df.to_csv(\"clean.csv\"))"
      ],
      "execution_count": null,
      "outputs": [
        {
          "output_type": "stream",
          "name": "stdout",
          "text": [
            "id                     0\n",
            "amount_tsh             0\n",
            "date_recorded          0\n",
            "funder                 0\n",
            "gps_height             0\n",
            "longitude              0\n",
            "latitude               0\n",
            "wpt_name               0\n",
            "num_private            0\n",
            "basin                  0\n",
            "subvillage           287\n",
            "region                 0\n",
            "region_code            0\n",
            "district_code          0\n",
            "lga                    0\n",
            "population             0\n",
            "recorded_by            0\n",
            "scheme_management      0\n",
            "construction_year      0\n",
            "extraction_type        0\n",
            "management             0\n",
            "payment_type           0\n",
            "water_quality          0\n",
            "quantity               0\n",
            "source                 0\n",
            "waterpoint_type        0\n",
            "status_group           0\n",
            "Age                    0\n",
            "dtype: int64\n",
            "<class 'pandas.core.frame.DataFrame'>\n",
            "RangeIndex: 44550 entries, 0 to 44549\n",
            "Data columns (total 26 columns):\n",
            " #   Column             Non-Null Count  Dtype  \n",
            "---  ------             --------------  -----  \n",
            " 0   id                 44550 non-null  int64  \n",
            " 1   amount_tsh         44550 non-null  float64\n",
            " 2   funder             44550 non-null  object \n",
            " 3   gps_height         44550 non-null  float64\n",
            " 4   longitude          44550 non-null  float64\n",
            " 5   latitude           44550 non-null  float64\n",
            " 6   wpt_name           44550 non-null  object \n",
            " 7   num_private        44550 non-null  int64  \n",
            " 8   basin              44550 non-null  object \n",
            " 9   subvillage         44263 non-null  object \n",
            " 10  region             44550 non-null  object \n",
            " 11  region_code        44550 non-null  int64  \n",
            " 12  district_code      44550 non-null  int64  \n",
            " 13  lga                44550 non-null  object \n",
            " 14  population         44550 non-null  float64\n",
            " 15  recorded_by        44550 non-null  object \n",
            " 16  scheme_management  44550 non-null  object \n",
            " 17  extraction_type    44550 non-null  object \n",
            " 18  management         44550 non-null  object \n",
            " 19  payment_type       44550 non-null  object \n",
            " 20  water_quality      44550 non-null  object \n",
            " 21  quantity           44550 non-null  object \n",
            " 22  source             44550 non-null  object \n",
            " 23  waterpoint_type    44550 non-null  object \n",
            " 24  status_group       44550 non-null  object \n",
            " 25  Age                44550 non-null  float64\n",
            "dtypes: float64(6), int64(4), object(16)\n",
            "memory usage: 8.8+ MB\n"
          ]
        },
        {
          "output_type": "execute_result",
          "data": {
            "text/html": [
              "<div>\n",
              "<style scoped>\n",
              "    .dataframe tbody tr th:only-of-type {\n",
              "        vertical-align: middle;\n",
              "    }\n",
              "\n",
              "    .dataframe tbody tr th {\n",
              "        vertical-align: top;\n",
              "    }\n",
              "\n",
              "    .dataframe thead th {\n",
              "        text-align: right;\n",
              "    }\n",
              "</style>\n",
              "<table border=\"1\" class=\"dataframe\">\n",
              "  <thead>\n",
              "    <tr style=\"text-align: right;\">\n",
              "      <th></th>\n",
              "    </tr>\n",
              "  </thead>\n",
              "  <tbody>\n",
              "  </tbody>\n",
              "</table>\n",
              "</div>"
            ],
            "text/plain": [
              "Empty DataFrame\n",
              "Columns: []\n",
              "Index: []"
            ]
          },
          "metadata": {},
          "execution_count": 40
        }
      ]
    },
    {
      "cell_type": "markdown",
      "metadata": {
        "id": "6kyVQvkGScQ3"
      },
      "source": [
        "Similarly for test data"
      ]
    },
    {
      "cell_type": "code",
      "metadata": {
        "colab": {
          "base_uri": "https://localhost:8080/",
          "height": 850
        },
        "id": "_hWNYnhJNFfF",
        "outputId": "64c4ab87-a9f9-48a1-e96c-b8e7570b6885"
      },
      "source": [
        "test_df[\"funder\"].fillna(\"other\", inplace=True)\n",
        "test_df[\"scheme_management\"].fillna(\"other\", inplace=True)\n",
        "print(test_df.isnull().sum())\n",
        "test_df.drop('date_recorded', axis=1, inplace=True)\n",
        "test_df.drop('construction_year', axis=1, inplace=True)\n",
        "test_df.info()\n",
        "test_df.quantity.head(5)\n",
        "pd.DataFrame(test_df).to_csv(\"clean_test.csv\")"
      ],
      "execution_count": null,
      "outputs": [
        {
          "output_type": "stream",
          "name": "stdout",
          "text": [
            "Unnamed: 0            0\n",
            "id                    0\n",
            "amount_tsh            0\n",
            "funder                0\n",
            "gps_height            0\n",
            "longitude             0\n",
            "latitude              0\n",
            "wpt_name              0\n",
            "num_private           0\n",
            "basin                 0\n",
            "subvillage           84\n",
            "region                0\n",
            "region_code           0\n",
            "district_code         0\n",
            "lga                   0\n",
            "population            0\n",
            "recorded_by           0\n",
            "scheme_management     0\n",
            "extraction_type       0\n",
            "management            0\n",
            "payment_type          0\n",
            "water_quality         0\n",
            "quantity              0\n",
            "source                0\n",
            "waterpoint_type       0\n",
            "Age                   0\n",
            "dtype: int64\n"
          ]
        },
        {
          "output_type": "error",
          "ename": "KeyError",
          "evalue": "ignored",
          "traceback": [
            "\u001b[0;31m---------------------------------------------------------------------------\u001b[0m",
            "\u001b[0;31mKeyError\u001b[0m                                  Traceback (most recent call last)",
            "\u001b[0;32m<ipython-input-41-5ae0ebe82d17>\u001b[0m in \u001b[0;36m<module>\u001b[0;34m()\u001b[0m\n\u001b[1;32m      2\u001b[0m \u001b[0mtest_df\u001b[0m\u001b[0;34m[\u001b[0m\u001b[0;34m\"scheme_management\"\u001b[0m\u001b[0;34m]\u001b[0m\u001b[0;34m.\u001b[0m\u001b[0mfillna\u001b[0m\u001b[0;34m(\u001b[0m\u001b[0;34m\"other\"\u001b[0m\u001b[0;34m,\u001b[0m \u001b[0minplace\u001b[0m\u001b[0;34m=\u001b[0m\u001b[0;32mTrue\u001b[0m\u001b[0;34m)\u001b[0m\u001b[0;34m\u001b[0m\u001b[0;34m\u001b[0m\u001b[0m\n\u001b[1;32m      3\u001b[0m \u001b[0mprint\u001b[0m\u001b[0;34m(\u001b[0m\u001b[0mtest_df\u001b[0m\u001b[0;34m.\u001b[0m\u001b[0misnull\u001b[0m\u001b[0;34m(\u001b[0m\u001b[0;34m)\u001b[0m\u001b[0;34m.\u001b[0m\u001b[0msum\u001b[0m\u001b[0;34m(\u001b[0m\u001b[0;34m)\u001b[0m\u001b[0;34m)\u001b[0m\u001b[0;34m\u001b[0m\u001b[0;34m\u001b[0m\u001b[0m\n\u001b[0;32m----> 4\u001b[0;31m \u001b[0mtest_df\u001b[0m\u001b[0;34m.\u001b[0m\u001b[0mdrop\u001b[0m\u001b[0;34m(\u001b[0m\u001b[0;34m'date_recorded'\u001b[0m\u001b[0;34m,\u001b[0m \u001b[0maxis\u001b[0m\u001b[0;34m=\u001b[0m\u001b[0;36m1\u001b[0m\u001b[0;34m,\u001b[0m \u001b[0minplace\u001b[0m\u001b[0;34m=\u001b[0m\u001b[0;32mTrue\u001b[0m\u001b[0;34m)\u001b[0m\u001b[0;34m\u001b[0m\u001b[0;34m\u001b[0m\u001b[0m\n\u001b[0m\u001b[1;32m      5\u001b[0m \u001b[0mtest_df\u001b[0m\u001b[0;34m.\u001b[0m\u001b[0mdrop\u001b[0m\u001b[0;34m(\u001b[0m\u001b[0;34m'construction_year'\u001b[0m\u001b[0;34m,\u001b[0m \u001b[0maxis\u001b[0m\u001b[0;34m=\u001b[0m\u001b[0;36m1\u001b[0m\u001b[0;34m,\u001b[0m \u001b[0minplace\u001b[0m\u001b[0;34m=\u001b[0m\u001b[0;32mTrue\u001b[0m\u001b[0;34m)\u001b[0m\u001b[0;34m\u001b[0m\u001b[0;34m\u001b[0m\u001b[0m\n\u001b[1;32m      6\u001b[0m \u001b[0mtest_df\u001b[0m\u001b[0;34m.\u001b[0m\u001b[0minfo\u001b[0m\u001b[0;34m(\u001b[0m\u001b[0;34m)\u001b[0m\u001b[0;34m\u001b[0m\u001b[0;34m\u001b[0m\u001b[0m\n",
            "\u001b[0;32m/usr/local/lib/python3.7/dist-packages/pandas/core/frame.py\u001b[0m in \u001b[0;36mdrop\u001b[0;34m(self, labels, axis, index, columns, level, inplace, errors)\u001b[0m\n\u001b[1;32m   4172\u001b[0m             \u001b[0mlevel\u001b[0m\u001b[0;34m=\u001b[0m\u001b[0mlevel\u001b[0m\u001b[0;34m,\u001b[0m\u001b[0;34m\u001b[0m\u001b[0;34m\u001b[0m\u001b[0m\n\u001b[1;32m   4173\u001b[0m             \u001b[0minplace\u001b[0m\u001b[0;34m=\u001b[0m\u001b[0minplace\u001b[0m\u001b[0;34m,\u001b[0m\u001b[0;34m\u001b[0m\u001b[0;34m\u001b[0m\u001b[0m\n\u001b[0;32m-> 4174\u001b[0;31m             \u001b[0merrors\u001b[0m\u001b[0;34m=\u001b[0m\u001b[0merrors\u001b[0m\u001b[0;34m,\u001b[0m\u001b[0;34m\u001b[0m\u001b[0;34m\u001b[0m\u001b[0m\n\u001b[0m\u001b[1;32m   4175\u001b[0m         )\n\u001b[1;32m   4176\u001b[0m \u001b[0;34m\u001b[0m\u001b[0m\n",
            "\u001b[0;32m/usr/local/lib/python3.7/dist-packages/pandas/core/generic.py\u001b[0m in \u001b[0;36mdrop\u001b[0;34m(self, labels, axis, index, columns, level, inplace, errors)\u001b[0m\n\u001b[1;32m   3887\u001b[0m         \u001b[0;32mfor\u001b[0m \u001b[0maxis\u001b[0m\u001b[0;34m,\u001b[0m \u001b[0mlabels\u001b[0m \u001b[0;32min\u001b[0m \u001b[0maxes\u001b[0m\u001b[0;34m.\u001b[0m\u001b[0mitems\u001b[0m\u001b[0;34m(\u001b[0m\u001b[0;34m)\u001b[0m\u001b[0;34m:\u001b[0m\u001b[0;34m\u001b[0m\u001b[0;34m\u001b[0m\u001b[0m\n\u001b[1;32m   3888\u001b[0m             \u001b[0;32mif\u001b[0m \u001b[0mlabels\u001b[0m \u001b[0;32mis\u001b[0m \u001b[0;32mnot\u001b[0m \u001b[0;32mNone\u001b[0m\u001b[0;34m:\u001b[0m\u001b[0;34m\u001b[0m\u001b[0;34m\u001b[0m\u001b[0m\n\u001b[0;32m-> 3889\u001b[0;31m                 \u001b[0mobj\u001b[0m \u001b[0;34m=\u001b[0m \u001b[0mobj\u001b[0m\u001b[0;34m.\u001b[0m\u001b[0m_drop_axis\u001b[0m\u001b[0;34m(\u001b[0m\u001b[0mlabels\u001b[0m\u001b[0;34m,\u001b[0m \u001b[0maxis\u001b[0m\u001b[0;34m,\u001b[0m \u001b[0mlevel\u001b[0m\u001b[0;34m=\u001b[0m\u001b[0mlevel\u001b[0m\u001b[0;34m,\u001b[0m \u001b[0merrors\u001b[0m\u001b[0;34m=\u001b[0m\u001b[0merrors\u001b[0m\u001b[0;34m)\u001b[0m\u001b[0;34m\u001b[0m\u001b[0;34m\u001b[0m\u001b[0m\n\u001b[0m\u001b[1;32m   3890\u001b[0m \u001b[0;34m\u001b[0m\u001b[0m\n\u001b[1;32m   3891\u001b[0m         \u001b[0;32mif\u001b[0m \u001b[0minplace\u001b[0m\u001b[0;34m:\u001b[0m\u001b[0;34m\u001b[0m\u001b[0;34m\u001b[0m\u001b[0m\n",
            "\u001b[0;32m/usr/local/lib/python3.7/dist-packages/pandas/core/generic.py\u001b[0m in \u001b[0;36m_drop_axis\u001b[0;34m(self, labels, axis, level, errors)\u001b[0m\n\u001b[1;32m   3921\u001b[0m                 \u001b[0mnew_axis\u001b[0m \u001b[0;34m=\u001b[0m \u001b[0maxis\u001b[0m\u001b[0;34m.\u001b[0m\u001b[0mdrop\u001b[0m\u001b[0;34m(\u001b[0m\u001b[0mlabels\u001b[0m\u001b[0;34m,\u001b[0m \u001b[0mlevel\u001b[0m\u001b[0;34m=\u001b[0m\u001b[0mlevel\u001b[0m\u001b[0;34m,\u001b[0m \u001b[0merrors\u001b[0m\u001b[0;34m=\u001b[0m\u001b[0merrors\u001b[0m\u001b[0;34m)\u001b[0m\u001b[0;34m\u001b[0m\u001b[0;34m\u001b[0m\u001b[0m\n\u001b[1;32m   3922\u001b[0m             \u001b[0;32melse\u001b[0m\u001b[0;34m:\u001b[0m\u001b[0;34m\u001b[0m\u001b[0;34m\u001b[0m\u001b[0m\n\u001b[0;32m-> 3923\u001b[0;31m                 \u001b[0mnew_axis\u001b[0m \u001b[0;34m=\u001b[0m \u001b[0maxis\u001b[0m\u001b[0;34m.\u001b[0m\u001b[0mdrop\u001b[0m\u001b[0;34m(\u001b[0m\u001b[0mlabels\u001b[0m\u001b[0;34m,\u001b[0m \u001b[0merrors\u001b[0m\u001b[0;34m=\u001b[0m\u001b[0merrors\u001b[0m\u001b[0;34m)\u001b[0m\u001b[0;34m\u001b[0m\u001b[0;34m\u001b[0m\u001b[0m\n\u001b[0m\u001b[1;32m   3924\u001b[0m             \u001b[0mresult\u001b[0m \u001b[0;34m=\u001b[0m \u001b[0mself\u001b[0m\u001b[0;34m.\u001b[0m\u001b[0mreindex\u001b[0m\u001b[0;34m(\u001b[0m\u001b[0;34m**\u001b[0m\u001b[0;34m{\u001b[0m\u001b[0maxis_name\u001b[0m\u001b[0;34m:\u001b[0m \u001b[0mnew_axis\u001b[0m\u001b[0;34m}\u001b[0m\u001b[0;34m)\u001b[0m\u001b[0;34m\u001b[0m\u001b[0;34m\u001b[0m\u001b[0m\n\u001b[1;32m   3925\u001b[0m \u001b[0;34m\u001b[0m\u001b[0m\n",
            "\u001b[0;32m/usr/local/lib/python3.7/dist-packages/pandas/core/indexes/base.py\u001b[0m in \u001b[0;36mdrop\u001b[0;34m(self, labels, errors)\u001b[0m\n\u001b[1;32m   5285\u001b[0m         \u001b[0;32mif\u001b[0m \u001b[0mmask\u001b[0m\u001b[0;34m.\u001b[0m\u001b[0many\u001b[0m\u001b[0;34m(\u001b[0m\u001b[0;34m)\u001b[0m\u001b[0;34m:\u001b[0m\u001b[0;34m\u001b[0m\u001b[0;34m\u001b[0m\u001b[0m\n\u001b[1;32m   5286\u001b[0m             \u001b[0;32mif\u001b[0m \u001b[0merrors\u001b[0m \u001b[0;34m!=\u001b[0m \u001b[0;34m\"ignore\"\u001b[0m\u001b[0;34m:\u001b[0m\u001b[0;34m\u001b[0m\u001b[0;34m\u001b[0m\u001b[0m\n\u001b[0;32m-> 5287\u001b[0;31m                 \u001b[0;32mraise\u001b[0m \u001b[0mKeyError\u001b[0m\u001b[0;34m(\u001b[0m\u001b[0;34mf\"{labels[mask]} not found in axis\"\u001b[0m\u001b[0;34m)\u001b[0m\u001b[0;34m\u001b[0m\u001b[0;34m\u001b[0m\u001b[0m\n\u001b[0m\u001b[1;32m   5288\u001b[0m             \u001b[0mindexer\u001b[0m \u001b[0;34m=\u001b[0m \u001b[0mindexer\u001b[0m\u001b[0;34m[\u001b[0m\u001b[0;34m~\u001b[0m\u001b[0mmask\u001b[0m\u001b[0;34m]\u001b[0m\u001b[0;34m\u001b[0m\u001b[0;34m\u001b[0m\u001b[0m\n\u001b[1;32m   5289\u001b[0m         \u001b[0;32mreturn\u001b[0m \u001b[0mself\u001b[0m\u001b[0;34m.\u001b[0m\u001b[0mdelete\u001b[0m\u001b[0;34m(\u001b[0m\u001b[0mindexer\u001b[0m\u001b[0;34m)\u001b[0m\u001b[0;34m\u001b[0m\u001b[0;34m\u001b[0m\u001b[0m\n",
            "\u001b[0;31mKeyError\u001b[0m: \"['date_recorded'] not found in axis\""
          ]
        }
      ]
    },
    {
      "cell_type": "markdown",
      "metadata": {
        "id": "piIIoDCXQoLG"
      },
      "source": [
        "Finally we are left with 20 features from 41 and we will use them to predict the status of the water pumps. We also engineered an Age feature. "
      ]
    },
    {
      "cell_type": "markdown",
      "metadata": {
        "id": "o6E7B2m7IdnY"
      },
      "source": [
        "References :\n",
        "\n",
        "1] https://www.drivendata.org/competitions/7/pump-it-up-data-mining-the-water-table/page/25/\n",
        "\n",
        "2] https://medium.com/@vaibhavshukla182/pump-it-up-data-mining-the-water-table-f903d4cfc7a8\n",
        "\n",
        "3] https://seaborn.pydata.org/index.html\n",
        "\n",
        "4] https://www.kaggle.com/dylanli/pump-it-up-data-mining-the-water-table"
      ]
    }
  ]
}